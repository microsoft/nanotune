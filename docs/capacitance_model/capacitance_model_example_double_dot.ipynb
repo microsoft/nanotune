{
 "cells": [
  {
   "cell_type": "code",
   "execution_count": 1,
   "metadata": {},
   "outputs": [
    {
     "name": "stdout",
     "output_type": "stream",
     "text": [
      "Logging hadn't been started.\n",
      "Activating auto-logging. Current session state plus future input saved.\n",
      "Filename       : /Users/jana/.qcodes/logs/command_history.log\n",
      "Mode           : append\n",
      "Output logging : True\n",
      "Raw input log  : False\n",
      "Timestamping   : True\n",
      "State          : active\n",
      "Qcodes Logfile : /Users/jana/.qcodes/logs/210520-4036-qcodes.log\n"
     ]
    }
   ],
   "source": [
    "%matplotlib inline\n",
    "from qcodes.dataset.experiment_container import new_experiment\n",
    "from qcodes.dataset.experiment_container import load_by_id\n",
    "from qcodes.dataset.plotting import plot_by_id\n",
    "\n",
    "import nanotune as nt\n",
    "from nanotune.model.capacitancemodel import CapacitanceModel"
   ]
  },
  {
   "cell_type": "markdown",
   "metadata": {},
   "source": [
    "## Capacitance model for quantum dots\n"
   ]
  },
  {
   "cell_type": "markdown",
   "metadata": {},
   "source": [
    "The system of electrostatic gates, dots and reservoirs is represented by a system of conductors connected via resistors and capacitors. Albeit classical and simple, the capacitance model explains and qualitatively reproduces relevant transport features of gate-defined quantum dots.\n",
    "\n",
    "The capacitance model is defined by a capacitance matrix $\\mathbf{C}$, whose elements $C_{ij}$ are the capacitances between individual elements $i$ and $j$. We distinguish between two different types of elements, the charge and the voltage nodes, representing quantum dots and electrostatic gates respectively. Each node $i$ is defined by its charge $Q_{i}$ and electrical potential $V_{i}$. For simplicity, we write charges and potentials on all nodes of the system in vector notation. We denote charges on charge and voltages nodes by $\\vec{Q_{c}}$ and $\\vec{Q_{v}}$ respectively, and electrical potentials by $\\vec{V}_{c}$ and $\\vec{V}_{v}$. The capacitance model allows to calculate potentials on voltage nodes resulting in the desired number of charges on charge nodes. We consider a system of $N_{c}$ charge nodes and $N_{v}$ voltage nodes.\n",
    "\n",
    "The capacitor connecting node $j$ and node $k$ has a capacitance $C_{jk}$ and stores a charge $q_{jk}$. The total charge on node $j$ is the sum of the charges of  all capacitors connected to it, \n",
    "\\begin{equation}\n",
    "Q_{j} = \\sum_{k} q_{jk} = \\sum_{k} C_{jk} (V_{j} - V_{k}).\n",
    "\\end{equation}\n",
    "Using the vector notation for charges and electrical potentials introduced above, this relation can be expressed using the capacitance matrix, $\\vec{Q} = \\mathbf{C} \\vec{V}$. Distinguishing between charge and voltage node sub-systems, this relation becomes\n",
    "\\begin{equation}\n",
    "\\begin{pmatrix} \\vec{Q_{c}} \\\\ \\vec{Q_{v}} \\end{pmatrix} = \n",
    "\\begin{pmatrix}\n",
    "\\mathbf{C_{cc}} & \\mathbf{C_{cv}} \\\\\n",
    "\\mathbf{C_{vc}} & \\mathbf{C_{vv}}\n",
    "\\end{pmatrix}\n",
    "\\begin{pmatrix}\n",
    "\\vec{V_{c}} \\\\\n",
    "\\vec{V}_{v}\n",
    "\\end{pmatrix}.\n",
    "\\end{equation}\n",
    "Diagonal elements of the capacitance matrix, $C_{jj}$, are total capacitances of each node and carry the opposite sign of the matrix's off-diagonal elements.\n",
    "The off-diagonal elements of $\\mathbf{\\mathbf{C_{cc}}}$ are capacitances between charge nodes, while the off-diagonal elements of $\\mathbf{\\mathbf{C_{vv}}}$ are capacitances between voltage nodes. The elements of $\\mathbf{\\mathbf{C_{cv}}}$ are capacitances between voltage and charge nodes, and allow to calculate so-called virtual gate coefficients - useful knobs in semiconductor qubit experiments.\n",
    "\n",
    "\n",
    "Illustration of capacitances between gates and gates and dots:  \n",
    "Each gate voltage $V_{i}$ will tune the number of charges on each dot.  The capacitance of the dots, $C_{A}$ and $C_{B}$, are sums of all capacitances connects to $A$ and $B$ respectively.  Gates located further away will have a smaller capacitive coupling. Most labels of capacitance between gates are omitted for readability. \n",
    "<img src=\"quantum_dots-08.png\" width=\"300\"/>\n",
    "Names and layout indices of gates:\n",
    "Six electrostatic gates, three barriers and two plungers, are used to define two, possibly coupled, quantum dots. Barrier gates are primarily used to create potential barriers, while plungers are used to tune electron density and thus the dot's electrochemical potentials.\n",
    "<img src=\"quantum_dots-09.png\" width=\"200\"/>\n"
   ]
  },
  {
   "cell_type": "markdown",
   "metadata": {},
   "source": [
    "Initiate or set database where data should be saved. When initializing a database a new qcodes experiment needs to be created as well."
   ]
  },
  {
   "cell_type": "code",
   "execution_count": 2,
   "metadata": {},
   "outputs": [
    {
     "data": {
      "text/plain": [
       "capacitance_extraction#capa_model#121@/Users/jana/Documents/code/nanotune/nanotune/docs/capacitance_model/capa_model_test.db\n",
       "----------------------------------------------------------------------------------------------------------------------------"
      ]
     },
     "execution_count": 2,
     "metadata": {},
     "output_type": "execute_result"
    }
   ],
   "source": [
    "exp_name = 'capacitance_extraction'\n",
    "sample_name = 'capa_model'\n",
    "db_name = 'capa_model_test.db'\n",
    "nt.new_database(db_name, '.')\n",
    "new_experiment(exp_name, sample_name)"
   ]
  },
  {
   "cell_type": "markdown",
   "metadata": {},
   "source": [
    "Initialize an instance of CapacitanceModel with six gates and two dots"
   ]
  },
  {
   "cell_type": "code",
   "execution_count": 3,
   "metadata": {},
   "outputs": [],
   "source": [
    "voltage_nodes = {\n",
    "    0: 'top_barrier',\n",
    "    1: 'left_barrier',\n",
    "    2: 'left_plunger',\n",
    "    3: 'central_barrier',\n",
    "    4: 'right_plunger',\n",
    "    5: 'right_barrier',\n",
    "}\n",
    "charge_nodes = {\n",
    "    0: 'A',\n",
    "    1: 'B'\n",
    "}\n",
    "dot_handles = {\n",
    "    'A': 2,\n",
    "    'B': 4,\n",
    "}\n",
    "\n",
    "qdot = CapacitanceModel(\n",
    "    'qdot',\n",
    "    charge_nodes=charge_nodes,\n",
    "    voltage_nodes=voltage_nodes,\n",
    "    db_name=db_name,\n",
    "    db_folder='.'\n",
    ")\n"
   ]
  },
  {
   "cell_type": "markdown",
   "metadata": {},
   "source": [
    "Set voltages, define capacitance matrix and calculate ground state dot occupation"
   ]
  },
  {
   "cell_type": "code",
   "execution_count": 4,
   "metadata": {},
   "outputs": [
    {
     "name": "stdout",
     "output_type": "stream",
     "text": [
      "[0.0, 0.0]\n"
     ]
    }
   ],
   "source": [
    "qdot.V_v([\n",
    "    -1,  # top_barrier\n",
    "    -1,  # left_barrier\n",
    "    -0.5,  # left_plunger\n",
    "    -1,  # central_barrier\n",
    "    -0.1,  # right_plunger\n",
    "    -1,  # right_barrier\n",
    "])\n",
    "\n",
    "# off-diagonal entries of C_cc, ie.e inter-dot capacitance\n",
    "qdot.C_cc([[-2]])\n",
    "# # capacitances between gates and dots\n",
    "#           top_b    left_b left_p center right_p  right_b    \n",
    "qdot.C_cv([[-0.6, -0.6, -0.5, -0.5, -0.1, -0.1],   #  A\n",
    "           [-0.5, -0.3, -0.2, -0.8, -0.5, -0.9]])    #  B\n",
    "\n",
    "print(qdot.determine_N())"
   ]
  },
  {
   "cell_type": "markdown",
   "metadata": {},
   "source": [
    "Define which dot occupancies to probe and calculate respective voltage ranges of two gates to sweep."
   ]
  },
  {
   "cell_type": "code",
   "execution_count": 5,
   "metadata": {},
   "outputs": [
    {
     "name": "stdout",
     "output_type": "stream",
     "text": [
      "[(2.8260797502049875, 6.304308844864283), (3.8695883841630536, 6.478321143336265)]\n"
     ]
    }
   ],
   "source": [
    "N_limits = [(0, 2), (0, 2)]\n",
    "sweep_ranges = qdot.determine_sweep_voltages([2, 4], N_limits=N_limits)\n",
    "print(sweep_ranges)"
   ]
  },
  {
   "cell_type": "code",
   "execution_count": 8,
   "metadata": {
    "scrolled": true
   },
   "outputs": [
    {
     "name": "stdout",
     "output_type": "stream",
     "text": [
      "Starting experimental run with id: 226. \n",
      "CPU times: user 1min 33s, sys: 8.5 s, total: 1min 42s\n",
      "Wall time: 1min\n"
     ]
    },
    {
     "data": {
      "text/plain": [
       "([<AxesSubplot:title={'center':'Run #226, Experiment capacitance_extraction (capa_model)'}, xlabel='voltage node left_plunger (V[2]) (V)', ylabel='voltage node right_plunger (V[4]) (V)'>],\n",
       " [<matplotlib.colorbar.Colorbar at 0x7f7f6bc77950>])"
      ]
     },
     "execution_count": 8,
     "metadata": {},
     "output_type": "execute_result"
    },
    {
     "data": {
      "image/png": "[encoded data removed]",
      "text/plain": [
       "<Figure size 432x288 with 2 Axes>"
      ]
     },
     "metadata": {
      "needs_background": "light"
     },
     "output_type": "display_data"
    }
   ],
   "source": [
    "%%time\n",
    "dataid = qdot.sweep_voltages(\n",
    "    [2, 4],\n",
    "    sweep_ranges,\n",
    "    n_steps=[40,40],\n",
    "    target_snr_db=100,\n",
    "    kernel_widths=[1, 1],  # for broadening with gaussian_filter\n",
    "    broaden=False,\n",
    "    add_noise=False,\n",
    "    add_charge_jumps=False,\n",
    "    normalize=False,\n",
    ")\n",
    "plot_by_id(dataid)"
   ]
  },
  {
   "cell_type": "code",
   "execution_count": null,
   "metadata": {},
   "outputs": [],
   "source": []
  },
  {
   "cell_type": "markdown",
   "metadata": {},
   "source": [
    "Sweep one voltage to show Coulomb oscillations"
   ]
  },
  {
   "cell_type": "code",
   "execution_count": 7,
   "metadata": {
    "scrolled": true
   },
   "outputs": [
    {
     "name": "stdout",
     "output_type": "stream",
     "text": [
      "[0.11007551 0.11007551 0.09920487 0.09920487]\n",
      "[0.10902011 0.10902011 0.09753844 0.09753844]\n",
      "[0.10796471 0.10796471 0.09587202 0.09587202]\n",
      "[0.1069093  0.1069093  0.09420559 0.09420559]\n",
      "[0.1058539  0.1058539  0.09253917 0.09253917]\n",
      "[0.1047985  0.1047985  0.09087274 0.09087274]\n",
      "[0.1037431  0.1037431  0.08920632 0.08920632]\n",
      "[0.10268769 0.10268769 0.08753989 0.08753989]\n",
      "[0.10163229 0.10163229 0.08587347 0.08587347]\n",
      "[0.10057689 0.10057689 0.08420704 0.08420704]\n",
      "[0.09952149 0.09952149 0.08254062 0.08254062]\n",
      "[0.09846608 0.09846608 0.08087419 0.08087419]\n",
      "[0.09741068 0.09741068 0.07920777 0.07920777]\n",
      "[0.09635528 0.09635528 0.07754134 0.07754134]\n",
      "[0.09529988 0.09529988 0.07587492 0.07587492]\n",
      "[0.09424447 0.09424447 0.07420849 0.07420849]\n",
      "[0.09318907 0.09318907 0.07254207 0.07254207]\n",
      "[0.09213367 0.09213367 0.07087564 0.07087564]\n",
      "[0.09107827 0.09107827 0.06920922 0.06920922]\n",
      "[0.09002286 0.09002286 0.06754279 0.06754279]\n",
      "[0.08896746 0.08896746 0.06587637 0.06587637]\n",
      "[0.08791206 0.08791206 0.06420994 0.06420994]\n",
      "[0.08685666 0.08685666 0.06254352 0.06254352]\n",
      "[0.08580125 0.08580125 0.06087709 0.06087709]\n",
      "[0.08474585 0.08474585 0.05921067 0.05921067]\n",
      "[0.08369045 0.08369045 0.05754424 0.05754424]\n",
      "[0.08263505 0.08263505 0.05587782 0.05587782]\n",
      "[0.08157964 0.08157964 0.05421139 0.05421139]\n",
      "[0.08052424 0.08052424 0.05254497 0.05254497]\n",
      "[0.07946884 0.07946884 0.05087854 0.05087854]\n",
      "[0.07841344 0.07841344 0.04921212 0.04921212]\n",
      "[0.07735803 0.07735803 0.04754569 0.04754569]\n",
      "[0.07630263 0.07630263 0.04587927 0.04587927]\n",
      "[0.07524723 0.07524723 0.04421284 0.04421284]\n",
      "[0.07419183 0.07419183 0.04254642 0.04254642]\n",
      "[0.07313642 0.07313642 0.04087999 0.04087999]\n",
      "[0.07208102 0.07208102 0.03921357 0.03921357]\n",
      "[0.07102562 0.07102562 0.03754714 0.03754714]\n",
      "[0.06997022 0.06997022 0.03588072 0.03588072]\n",
      "[0.06891481 0.06891481 0.03421429 0.03421429]\n",
      "[0.06785941 0.06785941 0.03254787 0.03254787]\n",
      "[0.06680401 0.06680401 0.03088144 0.03088144]\n",
      "[0.06574861 0.06574861 0.02921502 0.02921502]\n",
      "[0.0646932  0.0646932  0.02754859 0.02754859]\n",
      "[0.0636378  0.0636378  0.02588217 0.02588217]\n",
      "[0.0625824  0.0625824  0.02421574 0.02421574]\n",
      "[0.061527   0.061527   0.02254932 0.02254932]\n",
      "[0.06047159 0.06047159 0.02088289 0.02088289]\n",
      "[0.05941619 0.05941619 0.01921647 0.01921647]\n",
      "[0.05836079 0.05836079 0.01755004 0.01755004]\n",
      "[0.05730539 0.05730539 0.01588362 0.01588362]\n",
      "[0.05624998 0.05624998 0.01421719 0.01421719]\n",
      "[0.05519458 0.05519458 0.01255077 0.01255077]\n",
      "[0.05413918 0.05413918 0.01088434 0.01088434]\n",
      "[0.05308378 0.05308378 0.00921792 0.00921792]\n",
      "[0.05202837 0.05202837 0.00755149 0.00755149]\n",
      "[0.05097297 0.05097297 0.00588507 0.00588507]\n",
      "[0.04991757 0.04991757 0.00421864 0.00421864]\n",
      "[0.04886217 0.04886217 0.00255222 0.00255222]\n",
      "[0.04780676 0.04780676 0.00088579 0.00088579]\n",
      "[0.15268357 0.04753199 0.23227022 0.00078063 0.23227022]\n",
      "[0.15162816 0.04814302 0.23060379 0.00244706 0.23060379]\n",
      "[0.15057276 0.04875404 0.22893737 0.00411348 0.22893737]\n",
      "[0.14951736 0.04936506 0.22727094 0.00577991 0.22727094]\n",
      "[0.14846196 0.04997608 0.22560452 0.00744633 0.22560452]\n",
      "[0.14740655 0.05058711 0.22393809 0.00911276 0.22393809]\n",
      "[0.14635115 0.05119813 0.22227167 0.01077918 0.22227167]\n",
      "[0.14529575 0.05180915 0.22060524 0.01244561 0.22060524]\n",
      "[0.14424035 0.05242017 0.21893882 0.01411203 0.21893882]\n",
      "[0.14318494 0.0530312  0.21727239 0.01577846 0.21727239]\n",
      "[0.14212954 0.05364222 0.21560597 0.01744488 0.21560597]\n",
      "[0.14107414 0.05425324 0.21393954 0.01911131 0.21393954]\n",
      "[0.14001874 0.05486426 0.21227312 0.02077773 0.21227312]\n",
      "[0.13896333 0.05547529 0.21060669 0.02244416 0.21060669]\n",
      "[0.13790793 0.05608631 0.20894027 0.02411058 0.20894027]\n",
      "[0.13685253 0.05669733 0.20727384 0.02577701 0.20727384]\n",
      "[0.13579713 0.05730835 0.20560742 0.02744343 0.20560742]\n",
      "[0.13474172 0.05791938 0.20394099 0.02910986 0.20394099]\n",
      "[0.13368632 0.0585304  0.20227457 0.03077628 0.20227457]\n",
      "[0.13263092 0.05914142 0.20060814 0.03244271 0.20060814]\n",
      "[0.13157552 0.05975244 0.19894172 0.03410913 0.19894172]\n",
      "[0.13052011 0.06036347 0.19727529 0.03577556 0.19727529]\n",
      "[0.12946471 0.06097449 0.19560887 0.03744198 0.19560887]\n",
      "[0.12840931 0.06158551 0.19394244 0.03910841 0.19394244]\n",
      "[0.12735391 0.06219653 0.19227602 0.04077483 0.19227602]\n",
      "[0.1262985  0.06280756 0.19060959 0.04244126 0.19060959]\n",
      "[0.1252431  0.06341858 0.18894317 0.04410768 0.18894317]\n",
      "[0.1241877  0.0640296  0.18727674 0.04577411 0.18727674]\n",
      "[0.1231323  0.06464062 0.18561032 0.04744053 0.18561032]\n",
      "[0.12207689 0.06525165 0.18394389 0.04910696 0.18394389]\n",
      "[0.12102149 0.06586267 0.18227747 0.05077338 0.18227747]\n",
      "[0.11996609 0.06647369 0.18061104 0.05243981 0.18061104]\n",
      "[0.11891069 0.06708471 0.17894462 0.05410623 0.17894462]\n",
      "[0.11785528 0.06769574 0.17727819 0.05577266 0.17727819]\n",
      "[0.11679988 0.06830676 0.17561177 0.05743908 0.17561177]\n",
      "[0.11574448 0.06891778 0.17394534 0.05910551 0.17394534]\n",
      "[0.11468908 0.0695288  0.17227892 0.06077193 0.17227892]\n",
      "[0.11363367 0.07013983 0.17061249 0.06243836 0.17061249]\n",
      "[0.11257827 0.07075085 0.16894607 0.06410478 0.16894607]\n",
      "[0.11152287 0.07136187 0.16727964 0.06577121 0.16727964]\n",
      "[0.11046747 0.07197289 0.16561322 0.06743763 0.16561322]\n",
      "[0.10941206 0.07258392 0.16394679 0.06910406 0.16394679]\n",
      "[0.10835666 0.07319494 0.16228037 0.07077048 0.16228037]\n",
      "[0.10730126 0.07380596 0.16061394 0.07243691 0.16061394]\n",
      "[0.10624586 0.07441698 0.15894752 0.07410333 0.15894752]\n",
      "[0.10519045 0.07502801 0.15728109 0.07576976 0.15728109]\n",
      "[0.10413505 0.07563903 0.15561467 0.07743618 0.15561467]\n",
      "[0.10307965 0.07625005 0.15394824 0.07910261 0.15394824]\n",
      "[0.10202425 0.07686107 0.15228182 0.08076903 0.15228182]\n",
      "[0.10096884 0.0774721  0.15061539 0.08243546 0.15061539]\n",
      "[0.09991344 0.07808312 0.14894897 0.08410188 0.14894897]\n",
      "[0.09885804 0.07869414 0.14728254 0.08576831 0.14728254]\n",
      "[0.09780264 0.07930516 0.14561612 0.08743473 0.14561612]\n",
      "[0.09674723 0.07991619 0.14394969 0.08910116 0.14394969]\n",
      "[0.09569183 0.08052721 0.14228327 0.09076758 0.14228327]\n",
      "[0.09463643 0.08113823 0.14061684 0.09243401 0.14061684]\n",
      "[0.09358103 0.08174925 0.13895042 0.09410043 0.13895042]\n",
      "[0.09252562 0.08236028 0.13728399 0.09576686 0.13728399]\n",
      "[0.09147022 0.0829713  0.13561757 0.09743328 0.13561757]\n",
      "[0.09041482 0.08358232 0.13395114 0.09909971 0.13395114]\n",
      "[0.08935942 0.08419334 0.13228472 0.10076613 0.13228472]\n",
      "[0.08830401 0.08480437 0.13061829 0.10243256 0.13061829]\n",
      "[0.08724861 0.08541539 0.12895187 0.10409898 0.12895187]\n",
      "[0.08619321 0.08602641 0.12728544 0.10576541 0.12728544]\n",
      "[0.08513781 0.08663743 0.12561902 0.10743183 0.12561902]\n",
      "[0.0840824  0.08724846 0.12395259 0.10909826 0.12395259]\n",
      "[0.083027   0.08785948 0.12228617 0.11076468 0.12228617]\n",
      "[0.0819716  0.0884705  0.12061974 0.11243111 0.12061974]\n",
      "[0.0809162  0.08908152 0.11895332 0.11409753 0.11895332]\n",
      "[0.07986079 0.08969255 0.11728689 0.11576396 0.11728689]\n",
      "[0.07880539 0.09030357 0.11562047 0.11743038 0.11562047]\n",
      "[0.07774999 0.09091459 0.11395404 0.11909681 0.11395404]\n",
      "[0.07669459 0.09152561 0.11228762 0.12076323 0.11228762]\n",
      "[0.07563918 0.09213664 0.11062119 0.12242966 0.11062119]\n",
      "[0.07458378 0.09274766 0.10895477 0.12409608 0.10895477]\n",
      "[0.07352838 0.09335868 0.10728834 0.12576251 0.10728834]\n",
      "[0.07247298 0.0939697  0.10562192 0.12742893 0.10562192]\n",
      "[0.07141757 0.09458073 0.10395549 0.12909536 0.10395549]\n",
      "[0.07036217 0.09519175 0.10228907 0.13076178 0.10228907]\n",
      "[0.06930677 0.09580277 0.10062264 0.13242821 0.10062264]\n",
      "[0.06825137 0.09641379 0.09895622 0.13409463 0.09895622]\n",
      "[0.06719596 0.09702482 0.09728979 0.13576106 0.09728979]\n",
      "[0.06614056 0.09763584 0.09562337 0.13742748 0.09562337]\n",
      "[0.06508516 0.09824686 0.09395694 0.13909391 0.09395694]\n",
      "[0.06402976 0.09885788 0.09229052 0.14076033 0.09229052]\n",
      "[0.06297435 0.09946891 0.09062409 0.14242676 0.09062409]\n",
      "[0.06191895 0.10007993 0.08895767 0.14409318 0.08895767]\n",
      "[0.06086355 0.10069095 0.08729124 0.14575961 0.08729124]\n",
      "[0.05980815 0.10130197 0.08562482 0.14742603 0.08562482]\n",
      "[0.05875274 0.101913   0.08395839 0.14909246 0.08395839]\n",
      "[0.05769734 0.10252402 0.08229197 0.15075888 0.08229197]\n",
      "[0.05664194 0.10313504 0.08062554 0.15242531 0.08062554]\n",
      "[0.05558654 0.10374606 0.07895912 0.15409173 0.07895912]\n",
      "[0.05453113 0.10435709 0.07729269 0.15575816 0.07729269]\n",
      "[0.05347573 0.10496811 0.07562627 0.15742458 0.07562627]\n",
      "[0.05242033 0.10557913 0.07395984 0.15909101 0.07395984]\n",
      "[0.05136493 0.10619015 0.07229342 0.16075743 0.07229342]\n"
     ]
    },
    {
     "name": "stdout",
     "output_type": "stream",
     "text": [
      "[0.05030952 0.10680118 0.07062699 0.16242386 0.07062699]\n",
      "[0.04925412 0.1074122  0.06896057 0.16409028 0.06896057]\n",
      "[0.04819872 0.10802322 0.06729414 0.16575671 0.06729414]\n",
      "[0.04714332 0.10863424 0.06562772 0.16742313 0.06562772]\n",
      "[0.04608791 0.10924527 0.06396129 0.16908956 0.06396129]\n",
      "[0.04503251 0.10985629 0.06229487 0.17075598 0.06229487]\n",
      "[0.04397711 0.11046731 0.06062844 0.17242241 0.06062844]\n",
      "[0.04292171 0.11107833 0.05896202 0.17408883 0.05896202]\n",
      "[0.0418663  0.11168936 0.05729559 0.17575526 0.05729559]\n",
      "[0.0408109  0.11230038 0.05562917 0.17742168 0.05562917]\n",
      "[0.0397555  0.1129114  0.05396274 0.17908811 0.05396274]\n",
      "[0.0387001  0.11352242 0.05229632 0.18075453 0.05229632]\n",
      "[0.03764469 0.11413345 0.05062989 0.18242096 0.05062989]\n",
      "[0.03658929 0.11474447 0.04896347 0.18408738 0.04896347]\n",
      "[0.03553389 0.11535549 0.04729704 0.18575381 0.04729704]\n",
      "[0.03447849 0.11596651 0.04563062 0.18742023 0.04563062]\n",
      "[0.03342308 0.11657754 0.04396419 0.18908666 0.04396419]\n",
      "[0.03236768 0.11718856 0.04229777 0.19075308 0.04229777]\n",
      "[0.03131228 0.11779958 0.04063134 0.19241951 0.04063134]\n",
      "[0.03025688 0.1184106  0.03896492 0.19408593 0.03896492]\n",
      "[0.02920147 0.11902163 0.03729849 0.19575236 0.03729849]\n",
      "[0.02814607 0.11963265 0.03563207 0.19741878 0.03563207]\n",
      "[0.02709067 0.12024367 0.03396564 0.19908521 0.03396564]\n",
      "[0.02603527 0.12085469 0.03229922 0.20075163 0.03229922]\n",
      "[0.02497986 0.12146572 0.03063279 0.20241806 0.03063279]\n",
      "[0.02392446 0.12207674 0.02896637 0.20408448 0.02896637]\n",
      "[0.02286906 0.12268776 0.02729994 0.2057509  0.02729994]\n",
      "[0.02181366 0.12329878 0.02563352 0.20741733 0.02563352]\n",
      "[0.02075825 0.12390981 0.02396709 0.20908375 0.02396709]\n",
      "[0.01970285 0.12452083 0.02230067 0.21075018 0.02230067]\n",
      "[0.01864745 0.12513185 0.02063424 0.2124166  0.02063424]\n",
      "[0.01759205 0.12574287 0.01896782 0.21408303 0.01896782]\n",
      "[0.01653664 0.1263539  0.01730139 0.21574945 0.01730139]\n",
      "[0.01548124 0.12696492 0.01563497 0.21741588 0.01563497]\n",
      "[0.01442584 0.12757594 0.01396854 0.2190823  0.01396854]\n",
      "[0.01337044 0.12818696 0.01230212 0.22074873 0.01230212]\n",
      "[0.01231503 0.12879799 0.01063569 0.22241515 0.01063569]\n",
      "[0.01125963 0.12940901 0.00896927 0.22408158 0.00896927]\n",
      "[0.01020423 0.13002003 0.00730284 0.225748   0.00730284]\n",
      "[0.00914883 0.13063105 0.00563642 0.22741443 0.00563642]\n",
      "[0.00809342 0.13124208 0.00396999 0.22908085 0.00396999]\n",
      "[0.00703802 0.1318531  0.00230357 0.23074728 0.00230357]\n",
      "[0.00598262 0.13246412 0.00063714 0.2324137  0.00063714]\n",
      "Starting experimental run with id: 231. \n"
     ]
    },
    {
     "data": {
      "text/plain": [
       "([<AxesSubplot:title={'center':'Run #231, Experiment capacitance_extraction (capa_model)'}, xlabel='voltage node right_plunger (V[4]) (V)', ylabel='Gate R (kV)'>],\n",
       " [None])"
      ]
     },
     "execution_count": 7,
     "metadata": {},
     "output_type": "execute_result"
    },
    {
     "data": {
      "image/png": "[encoded data removed]",
      "text/plain": [
       "<Figure size 432x288 with 1 Axes>"
      ]
     },
     "metadata": {
      "needs_background": "light"
     },
     "output_type": "display_data"
    }
   ],
   "source": [
    "qdot.V_v([\n",
    "    -1,  # top_barrier\n",
    "    -1,  # left_barrier\n",
    "    3,  # left_plunger\n",
    "    -1,  # central_barrier\n",
    "    -0.1,  # right_plunger\n",
    "    -1,  # right_barrier\n",
    "])\n",
    "\n",
    "dataid = qdot.sweep_voltage(\n",
    "    4, \n",
    "    sweep_ranges[1],\n",
    "    n_steps=200,\n",
    "    target_snr_db=100,\n",
    "    normalize=False,\n",
    "   )\n",
    "plot_by_id(dataid)"
   ]
  },
  {
   "cell_type": "code",
   "execution_count": null,
   "metadata": {},
   "outputs": [],
   "source": []
  },
  {
   "cell_type": "code",
   "execution_count": null,
   "metadata": {},
   "outputs": [],
   "source": []
  },
  {
   "cell_type": "code",
   "execution_count": null,
   "metadata": {},
   "outputs": [],
   "source": []
  }
 ],
 "metadata": {
  "kernelspec": {
   "display_name": "Python 3",
   "language": "python",
   "name": "python3"
  },
  "language_info": {
   "codemirror_mode": {
    "name": "ipython",
    "version": 3
   },
   "file_extension": ".py",
   "mimetype": "text/x-python",
   "name": "python",
   "nbconvert_exporter": "python",
   "pygments_lexer": "ipython3",
   "version": "3.7.9"
  }
 },
 "nbformat": 4,
 "nbformat_minor": 2
}
