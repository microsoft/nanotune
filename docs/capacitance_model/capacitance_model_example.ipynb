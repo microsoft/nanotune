{
 "cells": [
  {
   "cell_type": "code",
   "execution_count": 1,
   "metadata": {},
   "outputs": [
    {
     "name": "stdout",
     "output_type": "stream",
     "text": [
      "Logging hadn't been started.\n",
      "Activating auto-logging. Current session state plus future input saved.\n",
      "Filename       : /Users/jana/.qcodes/logs/command_history.log\n",
      "Mode           : append\n",
      "Output logging : True\n",
      "Raw input log  : False\n",
      "Timestamping   : True\n",
      "State          : active\n",
      "Qcodes Logfile : /Users/jana/.qcodes/logs/210415-42156-qcodes.log\n"
     ]
    }
   ],
   "source": [
    "%matplotlib inline\n",
    "# %matplotlib qt\n",
    "import json\n",
    "import numpy as np\n",
    "import matplotlib.pyplot as plt\n",
    "\n",
    "import qcodes as qc\n",
    "from qcodes.dataset.experiment_container import (Experiment,\n",
    "                                                 load_last_experiment,\n",
    "                                                 new_experiment)\n",
    "from qcodes.dataset.experiment_container import load_by_id\n",
    "from qcodes.dataset.plotting import plot_by_id\n",
    "\n",
    "import nanotune as nt\n",
    "from nanotune.model.capacitancemodel import CapacitanceModel"
   ]
  },
  {
   "cell_type": "markdown",
   "metadata": {},
   "source": [
    "## Capacitance model for quantum dots\n"
   ]
  },
  {
   "cell_type": "markdown",
   "metadata": {},
   "source": [
    "The system of electrostatic gates, dots and reservoirs is represented by a system of conductors connected via resistors and capacitors. Albeit classical and simple, the capacitance model explains and qualitatively reproduces relevant transport features of gate-defined quantum dots.\n",
    "\n",
    "The capacitance model is defined by a capacitance matrix $\\mathbf{C}$, whose elements $C_{ij}$ are the capacitances between individual elements $i$ and $j$. We distinguish between two different types of elements, the charge and the voltage nodes, representing quantum dots and electrostatic gates respectively. Each node $i$ is defined by its charge $Q_{i}$ and electrical potential $V_{i}$. For simplicity, we write charges and potentials on all nodes of the system in vector notation. We denote charges on charge and voltages nodes by $\\vec{Q_{c}}$ and $\\vec{Q_{v}}$ respectively, and electrical potentials by $\\vec{V}_{c}$ and $\\vec{V}_{v}$. The capacitance model allows to calculate potentials on voltage nodes resulting in the desired number of charges on charge nodes. We consider a system of $N_{c}$ charge nodes and $N_{v}$ voltage nodes.\n",
    "\n",
    "The capacitor connecting node $j$ and node $k$ has a capacitance $C_{jk}$ and stores a charge $q_{jk}$. The total charge on node $j$ is the sum of the charges of  all capacitors connected to it, \n",
    "\\begin{equation}\n",
    "Q_{j} = \\sum_{k} q_{jk} = \\sum_{k} C_{jk} (V_{j} - V_{k}).\n",
    "\\end{equation}\n",
    "Using the vector notation for charges and electrical potentials introduced above, this relation can be expressed using the capacitance matrix, $\\vec{Q} = \\mathbf{C} \\vec{V}$. Distinguishing between charge and voltage node sub-systems, this relation becomes\n",
    "\\begin{equation}\n",
    "\\begin{pmatrix} \\vec{Q_{c}} \\\\ \\vec{Q_{v}} \\end{pmatrix} = \n",
    "\\begin{pmatrix}\n",
    "\\mathbf{C_{cc}} & \\mathbf{C_{cv}} \\\\\n",
    "\\mathbf{C_{vc}} & \\mathbf{C_{vv}}\n",
    "\\end{pmatrix}\n",
    "\\begin{pmatrix}\n",
    "\\vec{V_{c}} \\\\\n",
    "\\vec{V}_{v}\n",
    "\\end{pmatrix}.\n",
    "\\end{equation}\n",
    "Diagonal elements of the capacitance matrix, $C_{jj}$, are total capacitances of each node and carry the opposite sign of the matrix's off-diagonal elements.\n",
    "The off-diagonal elements of $\\mathbf{\\mathbf{C_{cc}}}$ are capacitances between charge nodes, while the off-diagonal elements of $\\mathbf{\\mathbf{C_{vv}}}$ are capacitances between voltage nodes. The elements of $\\mathbf{\\mathbf{C_{cv}}}$ are capacitances between voltage and charge nodes, and allow to calculate so-called virtual gate coefficients - useful knobs in semiconductor qubit experiments.\n",
    "\n",
    "\n",
    "Illustration of capacitances between gates and gates and dots:  \n",
    "Each gate voltage $V_{i}$ will tune the number of charges on each dot.  The capacitance of the dots, $C_{A}$ and $C_{B}$, are sums of all capacitances connects to $A$ and $B$ respectively.  Gates located further away will have a smaller capacitive coupling. Most labels of capacitance between gates are omitted for readability. \n",
    "<img src=\"quantum_dots-08.png\" width=\"300\"/>\n",
    "Names and layout indices of gates:\n",
    "Six electrostatic gates, three barriers and two plungers, are used to define two, possibly coupled, quantum dots. Barrier gates are primarily used to create potential barriers, while plungers are used to tune electron density and thus the dot's electrochemical potentials.\n",
    "<img src=\"quantum_dots-09.png\" width=\"200\"/>\n"
   ]
  },
  {
   "cell_type": "markdown",
   "metadata": {},
   "source": [
    "Initiate or set database where data should be saved. When initializing a database a new qcodes experiment needs to be created as well."
   ]
  },
  {
   "cell_type": "code",
   "execution_count": 2,
   "metadata": {},
   "outputs": [
    {
     "data": {
      "text/plain": [
       "capacitance_extraction#capa_model#2@/Users/jana/Documents/code/nanotune/nanotune/docs/capacitance_model/capa_model_test.db\n",
       "--------------------------------------------------------------------------------------------------------------------------"
      ]
     },
     "execution_count": 2,
     "metadata": {},
     "output_type": "execute_result"
    }
   ],
   "source": [
    "exp_name = 'capacitance_extraction'\n",
    "sample_name = 'capa_model'\n",
    "db_name = 'capa_model_test.db'\n",
    "nt.new_database(db_name, '.')\n",
    "new_experiment(exp_name, sample_name)\n",
    "# nt.set_database(db_name)"
   ]
  },
  {
   "cell_type": "markdown",
   "metadata": {},
   "source": [
    "Initialize an instance of CapacitanceModel with six gates and two dots"
   ]
  },
  {
   "cell_type": "code",
   "execution_count": 3,
   "metadata": {},
   "outputs": [],
   "source": [
    "voltage_nodes = {\n",
    "    0: 'top_barrier',\n",
    "    1: 'left_barrier',\n",
    "    2: 'left_plunger',\n",
    "    3: 'central_barrier',\n",
    "    4: 'right_plunger',\n",
    "    5: 'right_barrier',\n",
    "}\n",
    "charge_nodes = {\n",
    "    0: 'A',\n",
    "    1: 'B'\n",
    "}\n",
    "\n",
    "qdot = CapacitanceModel(\n",
    "    'qdot',\n",
    "    charge_nodes=charge_nodes,\n",
    "    voltage_nodes=voltage_nodes,\n",
    "    db_name=db_name,\n",
    "    db_folder='.'\n",
    ")\n"
   ]
  },
  {
   "cell_type": "markdown",
   "metadata": {},
   "source": [
    "Set voltages, define capacitance matrix and calculate ground state dot occupation"
   ]
  },
  {
   "cell_type": "code",
   "execution_count": 4,
   "metadata": {},
   "outputs": [
    {
     "name": "stdout",
     "output_type": "stream",
     "text": [
      "[14.0, 7.0]\n"
     ]
    }
   ],
   "source": [
    "qdot.V_v([\n",
    "    -1,  # top_barrier\n",
    "    -0.1,  # left_barrier\n",
    "    -4.2,  # left_plunger\n",
    "    -1,  # central_barrier\n",
    "    -0.5,  # right_plunger\n",
    "    -0.3,  # right_barrier\n",
    "])\n",
    "# inter-dot capacitance\n",
    "qdot.C_cc([[-8e-18]])\n",
    "# capacitances between gates and dots\n",
    "#           top_b    left_b left_p center right_p  right_b    \n",
    "qdot.C_cv([[0.5e-18, 1e-18, 5e-18, 1e-18, 0.1e-18, 0.1e-18],   #  A\n",
    "           [0.5e-18, 0.1e-18, 1e-18, 2e-18, 9e-18, 2e-18]])    #  B\n",
    "\n",
    "print(qdot.determine_N())"
   ]
  },
  {
   "cell_type": "markdown",
   "metadata": {},
   "source": [
    "Define which dot occupancies to probe and calculate respective voltage ranges of two gates to sweep."
   ]
  },
  {
   "cell_type": "code",
   "execution_count": 5,
   "metadata": {},
   "outputs": [
    {
     "name": "stdout",
     "output_type": "stream",
     "text": [
      "[[0.31981233977907475, -0.6329423026592067], [0.31003555776603053, -0.1181622049334346]]\n"
     ]
    }
   ],
   "source": [
    "N_limits = [(0, 3), (0, 3)]\n",
    "sweep_ranges = qdot.determine_sweep_voltages([2, 4], N_limits=N_limits)\n",
    "print(sweep_ranges)"
   ]
  },
  {
   "cell_type": "code",
   "execution_count": 6,
   "metadata": {
    "scrolled": true
   },
   "outputs": [
    {
     "name": "stdout",
     "output_type": "stream",
     "text": [
      "Starting experimental run with id: 4. \n",
      "CPU times: user 2min 34s, sys: 14.1 s, total: 2min 48s\n",
      "Wall time: 2min 3s\n"
     ]
    },
    {
     "data": {
      "text/plain": [
       "([<AxesSubplot:title={'center':'Run #4, Experiment capacitance_extraction (capa_model)'}, xlabel='voltage node left_plunger (V[2]) (mV)', ylabel='voltage node right_plunger (V[4]) (mV)'>],\n",
       " [<matplotlib.colorbar.Colorbar at 0x7fcd1284c7d0>])"
      ]
     },
     "execution_count": 6,
     "metadata": {},
     "output_type": "execute_result"
    },
    {
     "data": {
      "image/png": "[encoded data removed]",
      "text/plain": [
       "<Figure size 432x288 with 2 Axes>"
      ]
     },
     "metadata": {
      "needs_background": "light"
     },
     "output_type": "display_data"
    }
   ],
   "source": [
    "%%time\n",
    "dataid = qdot.sweep_voltages(\n",
    "    [2, 4],\n",
    "     sweep_ranges,\n",
    "     n_steps=[50,50],\n",
    "     target_snr_db=10,\n",
    "     e_temp=2e-21,\n",
    "     kernel_widths=[1, 1],  # for broadening with gaussian_filter\n",
    "     broaden=True,\n",
    "     add_noise=True,\n",
    "     add_charge_jumps=False,\n",
    ")\n",
    "plot_by_id(dataid)"
   ]
  },
  {
   "cell_type": "code",
   "execution_count": null,
   "metadata": {},
   "outputs": [],
   "source": []
  },
  {
   "cell_type": "markdown",
   "metadata": {},
   "source": [
    "Sweep one voltage to show Coulomb oscillations"
   ]
  },
  {
   "cell_type": "code",
   "execution_count": 6,
   "metadata": {
    "scrolled": true
   },
   "outputs": [
    {
     "name": "stdout",
     "output_type": "stream",
     "text": [
      "Starting experimental run with id: 1. \n",
      "CPU times: user 5.93 s, sys: 551 ms, total: 6.48 s\n",
      "Wall time: 4.49 s\n"
     ]
    },
    {
     "data": {
      "text/plain": [
       "([<AxesSubplot:title={'center':'Run #1, Experiment capacitance_extraction (capa_model)'}, xlabel='voltage node left_plunger (V[2]) (mV)', ylabel='Gate R (V)'>],\n",
       " [None])"
      ]
     },
     "execution_count": 6,
     "metadata": {},
     "output_type": "execute_result"
    },
    {
     "data": {
      "image/png": "[encoded data removed]",
      "text/plain": [
       "<Figure size 432x288 with 1 Axes>"
      ]
     },
     "metadata": {
      "needs_background": "light"
     },
     "output_type": "display_data"
    }
   ],
   "source": [
    "%%time\n",
    "dataid = qdot.sweep_voltage(2, sweep_ranges[0],\n",
    "                            n_steps=100,\n",
    "                            target_snr_db=20,\n",
    "                            e_temp=3e-21,\n",
    "                           )\n",
    "plot_by_id(dataid)"
   ]
  },
  {
   "cell_type": "code",
   "execution_count": null,
   "metadata": {},
   "outputs": [],
   "source": []
  },
  {
   "cell_type": "code",
   "execution_count": null,
   "metadata": {},
   "outputs": [],
   "source": []
  }
 ],
 "metadata": {
  "kernelspec": {
   "display_name": "Python 3",
   "language": "python",
   "name": "python3"
  },
  "language_info": {
   "codemirror_mode": {
    "name": "ipython",
    "version": 3
   },
   "file_extension": ".py",
   "mimetype": "text/x-python",
   "name": "python",
   "nbconvert_exporter": "python",
   "pygments_lexer": "ipython3",
   "version": "3.7.9"
  }
 },
 "nbformat": 4,
 "nbformat_minor": 2
}
