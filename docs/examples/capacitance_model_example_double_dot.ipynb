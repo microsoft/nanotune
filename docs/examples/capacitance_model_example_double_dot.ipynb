{
 "cells": [
  {
   "cell_type": "code",
   "execution_count": 1,
   "metadata": {},
   "outputs": [],
   "source": [
    "%matplotlib inline\n",
    "from qcodes.dataset.experiment_container import new_experiment\n",
    "from qcodes.dataset.experiment_container import load_by_id\n",
    "from qcodes.dataset.plotting import plot_by_id\n",
    "\n",
    "import nanotune as nt\n",
    "from nanotune.model.capacitancemodel import CapacitanceModel"
   ]
  },
  {
   "cell_type": "markdown",
   "metadata": {},
   "source": [
    "## Capacitance model for quantum dots\n"
   ]
  },
  {
   "cell_type": "markdown",
   "metadata": {},
   "source": [
    "The system of electrostatic gates, dots and reservoirs is represented by a system of conductors connected via resistors and capacitors. Albeit classical and simple, the capacitance model explains and qualitatively reproduces relevant transport features of gate-defined quantum dots.\n",
    "\n",
    "The capacitance model is defined by a capacitance matrix $\\mathbf{C}$, whose elements $C_{ij}$ are the capacitances between individual elements $i$ and $j$. We distinguish between two different types of elements, the charge and the voltage nodes, representing quantum dots and electrostatic gates respectively. Each node $i$ is defined by its charge $Q_{i}$ and electrical potential $V_{i}$. For simplicity, we write charges and potentials on all nodes of the system in vector notation. We denote charges on charge and voltages nodes by $\\vec{Q_{c}}$ and $\\vec{Q_{v}}$ respectively, and electrical potentials by $\\vec{V}_{c}$ and $\\vec{V}_{v}$. The capacitance model allows to calculate potentials on voltage nodes resulting in the desired number of charges on charge nodes. We consider a system of $N_{c}$ charge nodes and $N_{v}$ voltage nodes.\n",
    "\n",
    "The capacitor connecting node $j$ and node $k$ has a capacitance $C_{jk}$ and stores a charge $q_{jk}$. The total charge on node $j$ is the sum of the charges of  all capacitors connected to it, \n",
    "\\begin{equation}\n",
    "Q_{j} = \\sum_{k} q_{jk} = \\sum_{k} C_{jk} (V_{j} - V_{k}).\n",
    "\\end{equation}\n",
    "Using the vector notation for charges and electrical potentials introduced above, this relation can be expressed using the capacitance matrix, $\\vec{Q} = \\mathbf{C} \\vec{V}$. Distinguishing between charge and voltage node sub-systems, this relation becomes\n",
    "\\begin{equation}\n",
    "\\begin{pmatrix} \\vec{Q_{c}} \\\\ \\vec{Q_{v}} \\end{pmatrix} = \n",
    "\\begin{pmatrix}\n",
    "\\mathbf{C_{cc}} & \\mathbf{C_{cv}} \\\\\n",
    "\\mathbf{C_{vc}} & \\mathbf{C_{vv}}\n",
    "\\end{pmatrix}\n",
    "\\begin{pmatrix}\n",
    "\\vec{V_{c}} \\\\\n",
    "\\vec{V}_{v}\n",
    "\\end{pmatrix}.\n",
    "\\end{equation}\n",
    "Diagonal elements of the capacitance matrix, $C_{jj}$, are total capacitances of each node and carry the opposite sign of the matrix's off-diagonal elements.\n",
    "The off-diagonal elements of $\\mathbf{\\mathbf{C_{cc}}}$ are capacitances between charge nodes, while the off-diagonal elements of $\\mathbf{\\mathbf{C_{vv}}}$ are capacitances between voltage nodes. The elements of $\\mathbf{\\mathbf{C_{cv}}}$ are capacitances between voltage and charge nodes, and allow to calculate so-called virtual gate coefficients - useful knobs in semiconductor qubit experiments.\n",
    "\n",
    "\n",
    "Illustration of capacitances between gates and gates and dots:  \n",
    "Each gate voltage $V_{i}$ will tune the number of charges on each dot.  The capacitance of the dots, $C_{A}$ and $C_{B}$, are sums of all capacitances connects to $A$ and $B$ respectively.  Gates located further away will have a smaller capacitive coupling. Most labels of capacitance between gates are omitted for readability. \n",
    "\n",
    "<img src=\"../quantum_dots/quantum_dots-08.svg\" width=\"300\"/>\n",
    "\n",
    "Names and layout indices of gates:\n",
    "Six electrostatic gates, three barriers and two plungers, are used to define two, possibly coupled, quantum dots. Barrier gates are primarily used to create potential barriers, while plungers are used to tune electron density and thus the dot's electrochemical potentials.\n",
    "\n",
    "<img src=\"../quantum_dots/quantum_dots-09.svg\" width=\"200\"/>\n"
   ]
  },
  {
   "cell_type": "markdown",
   "metadata": {},
   "source": [
    "Initiate or set database where data should be saved. When initializing a database a new qcodes experiment needs to be created as well."
   ]
  },
  {
   "cell_type": "code",
   "execution_count": 2,
   "metadata": {},
   "outputs": [
    {
     "name": "stdout",
     "output_type": "stream",
     "text": [
      "Upgrading database; v0 -> v1: : 0it [00:00, ?it/s]\n",
      "Upgrading database; v1 -> v2: 100%|█████████████████████████████████████████████████████| 1/1 [00:00<00:00, 504.18it/s]\n",
      "Upgrading database; v2 -> v3: : 0it [00:00, ?it/s]\n",
      "Upgrading database; v3 -> v4: : 0it [00:00, ?it/s]\n",
      "Upgrading database; v4 -> v5: 100%|█████████████████████████████████████████████████████| 1/1 [00:00<00:00, 333.62it/s]\n",
      "Upgrading database; v5 -> v6: : 0it [00:00, ?it/s]\n",
      "Upgrading database; v6 -> v7: 100%|█████████████████████████████████████████████████████| 1/1 [00:00<00:00, 142.93it/s]\n",
      "Upgrading database; v7 -> v8: 100%|█████████████████████████████████████████████████████| 1/1 [00:00<00:00, 333.23it/s]\n",
      "Upgrading database; v8 -> v9: 100%|█████████████████████████████████████████████████████| 1/1 [00:00<00:00, 250.06it/s]\n"
     ]
    },
    {
     "data": {
      "text/plain": [
       "capacitance_extraction#capa_model#1@C:\\Workshop\\nanotune\\docs\\examples\\capa_model_test.db\n",
       "-----------------------------------------------------------------------------------------"
      ]
     },
     "execution_count": 2,
     "metadata": {},
     "output_type": "execute_result"
    }
   ],
   "source": [
    "exp_name = 'capacitance_extraction'\n",
    "sample_name = 'capa_model'\n",
    "db_name = 'capa_model_test.db'\n",
    "nt.new_database(db_name, '.')\n",
    "new_experiment(exp_name, sample_name)"
   ]
  },
  {
   "cell_type": "markdown",
   "metadata": {},
   "source": [
    "Initialize an instance of CapacitanceModel with six gates and two dots"
   ]
  },
  {
   "cell_type": "code",
   "execution_count": 3,
   "metadata": {},
   "outputs": [],
   "source": [
    "voltage_nodes = {\n",
    "    0: 'top_barrier',\n",
    "    1: 'left_barrier',\n",
    "    2: 'left_plunger',\n",
    "    3: 'central_barrier',\n",
    "    4: 'right_plunger',\n",
    "    5: 'right_barrier',\n",
    "}\n",
    "charge_nodes = {\n",
    "    0: 'A',\n",
    "    1: 'B'\n",
    "}\n",
    "\n",
    "qdot = CapacitanceModel(\n",
    "    'qdot',\n",
    "    charge_nodes=charge_nodes,\n",
    "    voltage_nodes=voltage_nodes,\n",
    "    db_name=db_name,\n",
    "    db_folder='.'\n",
    ")\n"
   ]
  },
  {
   "cell_type": "markdown",
   "metadata": {},
   "source": [
    "Set voltages, define capacitance matrix and calculate ground state dot occupation"
   ]
  },
  {
   "cell_type": "code",
   "execution_count": 4,
   "metadata": {
    "scrolled": true
   },
   "outputs": [
    {
     "name": "stdout",
     "output_type": "stream",
     "text": [
      "[0.0, 0.0]\n"
     ]
    }
   ],
   "source": [
    "qdot.V_v([\n",
    "    -1,  # top_barrier\n",
    "    -1,  # left_barrier\n",
    "    -0.5,  # left_plunger\n",
    "    -1,  # central_barrier\n",
    "    -0.1,  # right_plunger\n",
    "    -1,  # right_barrier\n",
    "])\n",
    "\n",
    "# off-diagonal entries of C_cc, ie.e inter-dot capacitance\n",
    "qdot.C_cc([[-2]])\n",
    "# # capacitances between gates and dots\n",
    "#           top_b    left_b left_p center right_p  right_b    \n",
    "qdot.C_cv([[-0.6, -0.6, -0.5, -0.5, -0.1, -0.1],   #  A\n",
    "           [-0.5, -0.3, -0.2, -0.8, -0.5, -0.9]])    #  B\n",
    "\n",
    "print(qdot.determine_N())"
   ]
  },
  {
   "cell_type": "markdown",
   "metadata": {},
   "source": [
    "Define which dot occupancies to probe and calculate respective voltage ranges of two gates to sweep."
   ]
  },
  {
   "cell_type": "code",
   "execution_count": 5,
   "metadata": {},
   "outputs": [
    {
     "name": "stdout",
     "output_type": "stream",
     "text": [
      "[(2.8260797502049875, 6.304308844864283), (3.8695883841630536, 6.478321143336265)]\n"
     ]
    }
   ],
   "source": [
    "N_limits = [(0, 2), (0, 2)]\n",
    "sweep_ranges = qdot.determine_sweep_voltages([2, 4], N_limits=N_limits)\n",
    "print(sweep_ranges)"
   ]
  },
  {
   "cell_type": "code",
   "execution_count": 7,
   "metadata": {
    "scrolled": true
   },
   "outputs": [
    {
     "name": "stdout",
     "output_type": "stream",
     "text": [
      "Starting experimental run with id: 1. \n",
      "Wall time: 42.8 s\n"
     ]
    },
    {
     "data": {
      "text/plain": [
       "([<AxesSubplot:title={'center':'Run #1, Experiment capacitance_extraction (capa_model)'}, xlabel='voltage node left_plunger (V[2]) (V)', ylabel='voltage node right_plunger (V[4]) (V)'>],\n",
       " [<matplotlib.colorbar.Colorbar at 0x162f3134730>])"
      ]
     },
     "execution_count": 7,
     "metadata": {},
     "output_type": "execute_result"
    },
    {
     "data": {
      "image/png": "[encoded data removed]",
      "text/plain": [
       "<Figure size 432x288 with 2 Axes>"
      ]
     },
     "metadata": {
      "needs_background": "light"
     },
     "output_type": "display_data"
    }
   ],
   "source": [
    "%%time\n",
    "dataid = qdot.sweep_voltages(\n",
    "    [2, 4],\n",
    "    sweep_ranges,\n",
    "    n_steps=[40,40],\n",
    "    target_snr_db=100,\n",
    "    add_noise=False,\n",
    "    add_charge_jumps=False,\n",
    "    normalize=False,\n",
    ")\n",
    "plot_by_id(dataid)"
   ]
  },
  {
   "cell_type": "markdown",
   "metadata": {},
   "source": [
    "Sweep one voltage to show Coulomb oscillations"
   ]
  },
  {
   "cell_type": "code",
   "execution_count": 16,
   "metadata": {},
   "outputs": [
    {
     "name": "stdout",
     "output_type": "stream",
     "text": [
      "Starting experimental run with id: 10. \n"
     ]
    },
    {
     "data": {
      "text/plain": [
       "([<AxesSubplot:title={'center':'Run #10, Experiment capacitance_extraction (capa_model)'}, xlabel='voltage node right_plunger (V[4]) (V)', ylabel='Gate R (V)'>],\n",
       " [None])"
      ]
     },
     "execution_count": 16,
     "metadata": {},
     "output_type": "execute_result"
    },
    {
     "data": {
      "image/png": "[encoded data removed]",
      "text/plain": [
       "<Figure size 432x288 with 1 Axes>"
      ]
     },
     "metadata": {
      "needs_background": "light"
     },
     "output_type": "display_data"
    }
   ],
   "source": [
    "qdot.V_v([\n",
    "    -1,  # top_barrier\n",
    "    -1,  # left_barrier\n",
    "    3.2,  # left_plunger\n",
    "    -1,  # central_barrier\n",
    "    -0.1,  # right_plunger\n",
    "    -1,  # right_barrier\n",
    "])\n",
    "\n",
    "dataid = qdot.sweep_voltage(\n",
    "    4, \n",
    "    sweep_ranges[1],\n",
    "    n_steps=200,\n",
    "    target_snr_db=100,\n",
    "    normalize=False,\n",
    "   )\n",
    "plot_by_id(dataid)"
   ]
  }
 ],
 "metadata": {
  "kernelspec": {
   "display_name": "Python 3 (ipykernel)",
   "language": "python",
   "name": "python3"
  },
  "language_info": {
   "codemirror_mode": {
    "name": "ipython",
    "version": 3
   },
   "file_extension": ".py",
   "mimetype": "text/x-python",
   "name": "python",
   "nbconvert_exporter": "python",
   "pygments_lexer": "ipython3",
   "version": "3.9.1"
  }
 },
 "nbformat": 4,
 "nbformat_minor": 2
}
