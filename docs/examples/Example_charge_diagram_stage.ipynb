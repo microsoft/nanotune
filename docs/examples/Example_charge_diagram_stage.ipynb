{
 "cells": [
  {
   "cell_type": "code",
   "execution_count": 1,
   "id": "celtic-google",
   "metadata": {},
   "outputs": [
    {
     "name": "stdout",
     "output_type": "stream",
     "text": [
      "Logging hadn't been started.\n",
      "Activating auto-logging. Current session state plus future input saved.\n",
      "Filename       : /Users/jana/.qcodes/logs/command_history.log\n",
      "Mode           : append\n",
      "Output logging : True\n",
      "Raw input log  : False\n",
      "Timestamping   : True\n",
      "State          : active\n",
      "Qcodes Logfile : /Users/jana/.qcodes/logs/210528-92993-qcodes.log\n"
     ]
    }
   ],
   "source": [
    "import os\n",
    "\n",
    "from qcodes import Station, load_or_create_experiment\n",
    "from qcodes.dataset.plotting import plot_dataset\n",
    "from qcodes.dataset.data_set import load_by_run_spec\n",
    " \n",
    "import nanotune as nt\n",
    "from nanotune.tests.mock_classifier import MockClassifer\n",
    "from nanotune.tuningstages.chargediagram import ChargeDiagram\n",
    "\n",
    "from sim.data_providers import QcodesDataProvider\n",
    "from sim.qcodes_mocks import QuantumDotMockInstrument\n",
    "\n",
    "nt_path = os.path.dirname(os.path.dirname(os.path.abspath(nt.__file__)))"
   ]
  },
  {
   "cell_type": "markdown",
   "id": "unlikely-trust",
   "metadata": {},
   "source": [
    "Define databases"
   ]
  },
  {
   "cell_type": "code",
   "execution_count": 2,
   "id": "tutorial-raleigh",
   "metadata": {},
   "outputs": [],
   "source": [
    "db_name_original_data2D = \"dot_tuning_sequences.db\"\n",
    "db_folder_original_data = os.path.join(nt_path, \"data\", \"tuning\")\n",
    "chargediagram_path = os.path.join(db_folder_original_data, db_name_original_data2D)\n",
    "\n",
    "db_name_replay = 'qdsim_test.db'\n",
    "db_folder_replay = os.getcwd()"
   ]
  },
  {
   "cell_type": "markdown",
   "id": "failing-saint",
   "metadata": {},
   "source": [
    "Create qc.Station"
   ]
  },
  {
   "cell_type": "code",
   "execution_count": 3,
   "id": "premium-organic",
   "metadata": {},
   "outputs": [],
   "source": [
    "station = Station()\n",
    "\n",
    "qd_mock_instrument = QuantumDotMockInstrument()\n",
    "station.add_component(qd_mock_instrument, name=\"qdmock\")\n",
    "\n",
    "qdsim = qd_mock_instrument.mock_device"
   ]
  },
  {
   "cell_type": "markdown",
   "id": "polar-birmingham",
   "metadata": {},
   "source": [
    "Create the data provider"
   ]
  },
  {
   "cell_type": "code",
   "execution_count": 4,
   "id": "bored-facial",
   "metadata": {},
   "outputs": [],
   "source": [
    "charge_state_data = QcodesDataProvider(\n",
    "    input_providers=[qdsim.l_plunger, qdsim.r_plunger], \n",
    "    db_path=chargediagram_path, \n",
    "    exp_name=\"GB_Newtown_Dev_1_1\", \n",
    "    run_id = 19,\n",
    ")\n",
    "qd_mock_instrument.drain.set_data_provider(charge_state_data)"
   ]
  },
  {
   "cell_type": "code",
   "execution_count": 5,
   "id": "familiar-mambo",
   "metadata": {},
   "outputs": [],
   "source": [
    "ds = nt.Dataset(19, db_name_original_data2D, db_folder_original_data)\n",
    "range_to_sweep = [\n",
    "    (min(ds.data.voltage_x.values), max(ds.data.voltage_x.values)),\n",
    "    (min(ds.data.voltage_y.values), max(ds.data.voltage_y.values)),\n",
    "]\n",
    "# range_to_sweep"
   ]
  },
  {
   "cell_type": "code",
   "execution_count": 6,
   "id": "automated-stations",
   "metadata": {},
   "outputs": [],
   "source": [
    "nt.set_database(db_name_replay, db_folder_replay)\n",
    "exp = load_or_create_experiment(\"simtest\")"
   ]
  },
  {
   "cell_type": "code",
   "execution_count": 7,
   "id": "sound-tomorrow",
   "metadata": {},
   "outputs": [],
   "source": [
    "\n",
    "chadiag = ChargeDiagram(\n",
    "    data_settings={\n",
    "        'db_name': db_name_replay,\n",
    "        'db_folder': db_folder_replay,\n",
    "        'normalization_constants': ds.normalization_constants,\n",
    "        'segment_size': 0.2,\n",
    "    },\n",
    "     setpoint_settings={\n",
    "        'voltage_precision': 0.01,\n",
    "        'parameters_to_sweep': [qd_mock_instrument.left_plunger, qd_mock_instrument.right_plunger],\n",
    "        'safety_voltage_ranges': [(-3, 0)],\n",
    "        'current_valid_ranges': range_to_sweep,\n",
    "    },\n",
    "    readout_methods={'transport': qd_mock_instrument.drain},\n",
    "    classifiers={\n",
    "        'singledot': MockClassifer('singledot'),\n",
    "        'doubledot': MockClassifer('doubledot'),\n",
    "        'dotregime': MockClassifer('dotregime')},\n",
    ")"
   ]
  },
  {
   "cell_type": "code",
   "execution_count": 8,
   "id": "consistent-coverage",
   "metadata": {
    "scrolled": true
   },
   "outputs": [
    {
     "name": "stderr",
     "output_type": "stream",
     "text": [
      "2021-05-28 15:30:55,573 ¦ nanotune.tuningstages.take_data ¦ WARNING ¦ take_data ¦ ramp_to_setpoint ¦ 130 ¦ Unable to ramp to new voltage. It will be set.\n",
      "2021-05-28 15:30:55,586 ¦ nanotune.tuningstages.take_data ¦ WARNING ¦ take_data ¦ ramp_to_setpoint ¦ 130 ¦ Unable to ramp to new voltage. It will be set.\n",
      "2021-05-28 15:30:55,599 ¦ nanotune.tuningstages.take_data ¦ WARNING ¦ take_data ¦ ramp_to_setpoint ¦ 130 ¦ Unable to ramp to new voltage. It will be set.\n",
      "2021-05-28 15:30:55,621 ¦ nanotune.tuningstages.take_data ¦ WARNING ¦ take_data ¦ ramp_to_setpoint ¦ 130 ¦ Unable to ramp to new voltage. It will be set.\n",
      "2021-05-28 15:30:55,649 ¦ nanotune.tuningstages.take_data ¦ WARNING ¦ take_data ¦ ramp_to_setpoint ¦ 130 ¦ Unable to ramp to new voltage. It will be set.\n",
      "2021-05-28 15:30:55,670 ¦ nanotune.tuningstages.take_data ¦ WARNING ¦ take_data ¦ ramp_to_setpoint ¦ 130 ¦ Unable to ramp to new voltage. It will be set.\n",
      "2021-05-28 15:30:55,689 ¦ nanotune.tuningstages.take_data ¦ WARNING ¦ take_data ¦ ramp_to_setpoint ¦ 130 ¦ Unable to ramp to new voltage. It will be set.\n",
      "2021-05-28 15:30:55,716 ¦ nanotune.tuningstages.take_data ¦ WARNING ¦ take_data ¦ ramp_to_setpoint ¦ 130 ¦ Unable to ramp to new voltage. It will be set.\n",
      "2021-05-28 15:30:55,734 ¦ nanotune.tuningstages.take_data ¦ WARNING ¦ take_data ¦ ramp_to_setpoint ¦ 130 ¦ Unable to ramp to new voltage. It will be set.\n"
     ]
    },
    {
     "name": "stdout",
     "output_type": "stream",
     "text": [
      "Starting experimental run with id: 51. \n"
     ]
    },
    {
     "name": "stderr",
     "output_type": "stream",
     "text": [
      "2021-05-28 15:30:55,773 ¦ nanotune.tuningstages.take_data ¦ WARNING ¦ take_data ¦ ramp_to_setpoint ¦ 130 ¦ Unable to ramp to new voltage. It will be set.\n",
      "2021-05-28 15:30:55,841 ¦ nanotune.tuningstages.take_data ¦ WARNING ¦ take_data ¦ ramp_to_setpoint ¦ 130 ¦ Unable to ramp to new voltage. It will be set.\n",
      "2021-05-28 15:30:55,857 ¦ nanotune.tuningstages.take_data ¦ WARNING ¦ take_data ¦ ramp_to_setpoint ¦ 130 ¦ Unable to ramp to new voltage. It will be set.\n",
      "2021-05-28 15:30:55,901 ¦ nanotune.tuningstages.take_data ¦ WARNING ¦ take_data ¦ ramp_to_setpoint ¦ 130 ¦ Unable to ramp to new voltage. It will be set.\n",
      "2021-05-28 15:30:55,919 ¦ nanotune.tuningstages.take_data ¦ WARNING ¦ take_data ¦ ramp_to_setpoint ¦ 130 ¦ Unable to ramp to new voltage. It will be set.\n",
      "2021-05-28 15:30:55,949 ¦ nanotune.tuningstages.take_data ¦ WARNING ¦ take_data ¦ ramp_to_setpoint ¦ 130 ¦ Unable to ramp to new voltage. It will be set.\n",
      "2021-05-28 15:30:55,977 ¦ nanotune.tuningstages.take_data ¦ WARNING ¦ take_data ¦ ramp_to_setpoint ¦ 130 ¦ Unable to ramp to new voltage. It will be set.\n",
      "2021-05-28 15:30:55,991 ¦ nanotune.tuningstages.take_data ¦ WARNING ¦ take_data ¦ ramp_to_setpoint ¦ 130 ¦ Unable to ramp to new voltage. It will be set.\n",
      "2021-05-28 15:30:56,008 ¦ nanotune.tuningstages.take_data ¦ WARNING ¦ take_data ¦ ramp_to_setpoint ¦ 130 ¦ Unable to ramp to new voltage. It will be set.\n",
      "2021-05-28 15:30:56,023 ¦ nanotune.tuningstages.take_data ¦ WARNING ¦ take_data ¦ ramp_to_setpoint ¦ 130 ¦ Unable to ramp to new voltage. It will be set.\n",
      "2021-05-28 15:30:56,038 ¦ nanotune.tuningstages.take_data ¦ WARNING ¦ take_data ¦ ramp_to_setpoint ¦ 130 ¦ Unable to ramp to new voltage. It will be set.\n",
      "2021-05-28 15:30:56,055 ¦ nanotune.tuningstages.take_data ¦ WARNING ¦ take_data ¦ ramp_to_setpoint ¦ 130 ¦ Unable to ramp to new voltage. It will be set.\n",
      "2021-05-28 15:30:56,069 ¦ nanotune.tuningstages.take_data ¦ WARNING ¦ take_data ¦ ramp_to_setpoint ¦ 130 ¦ Unable to ramp to new voltage. It will be set.\n",
      "2021-05-28 15:30:56,085 ¦ nanotune.tuningstages.take_data ¦ WARNING ¦ take_data ¦ ramp_to_setpoint ¦ 130 ¦ Unable to ramp to new voltage. It will be set.\n",
      "2021-05-28 15:30:56,102 ¦ nanotune.tuningstages.take_data ¦ WARNING ¦ take_data ¦ ramp_to_setpoint ¦ 130 ¦ Unable to ramp to new voltage. It will be set.\n",
      "2021-05-28 15:30:56,113 ¦ nanotune.tuningstages.take_data ¦ WARNING ¦ take_data ¦ ramp_to_setpoint ¦ 130 ¦ Unable to ramp to new voltage. It will be set.\n",
      "2021-05-28 15:30:56,129 ¦ nanotune.tuningstages.take_data ¦ WARNING ¦ take_data ¦ ramp_to_setpoint ¦ 130 ¦ Unable to ramp to new voltage. It will be set.\n",
      "2021-05-28 15:30:56,146 ¦ nanotune.tuningstages.take_data ¦ WARNING ¦ take_data ¦ ramp_to_setpoint ¦ 130 ¦ Unable to ramp to new voltage. It will be set.\n",
      "2021-05-28 15:30:56,158 ¦ nanotune.tuningstages.take_data ¦ WARNING ¦ take_data ¦ ramp_to_setpoint ¦ 130 ¦ Unable to ramp to new voltage. It will be set.\n",
      "2021-05-28 15:30:56,172 ¦ nanotune.tuningstages.take_data ¦ WARNING ¦ take_data ¦ ramp_to_setpoint ¦ 130 ¦ Unable to ramp to new voltage. It will be set.\n",
      "2021-05-28 15:30:56,187 ¦ nanotune.tuningstages.take_data ¦ WARNING ¦ take_data ¦ ramp_to_setpoint ¦ 130 ¦ Unable to ramp to new voltage. It will be set.\n",
      "2021-05-28 15:30:56,202 ¦ nanotune.tuningstages.take_data ¦ WARNING ¦ take_data ¦ ramp_to_setpoint ¦ 130 ¦ Unable to ramp to new voltage. It will be set.\n",
      "2021-05-28 15:30:56,219 ¦ nanotune.tuningstages.take_data ¦ WARNING ¦ take_data ¦ ramp_to_setpoint ¦ 130 ¦ Unable to ramp to new voltage. It will be set.\n",
      "2021-05-28 15:30:56,234 ¦ nanotune.tuningstages.take_data ¦ WARNING ¦ take_data ¦ ramp_to_setpoint ¦ 130 ¦ Unable to ramp to new voltage. It will be set.\n",
      "2021-05-28 15:30:56,251 ¦ nanotune.tuningstages.take_data ¦ WARNING ¦ take_data ¦ ramp_to_setpoint ¦ 130 ¦ Unable to ramp to new voltage. It will be set.\n",
      "2021-05-28 15:30:56,262 ¦ nanotune.tuningstages.take_data ¦ WARNING ¦ take_data ¦ ramp_to_setpoint ¦ 130 ¦ Unable to ramp to new voltage. It will be set.\n",
      "2021-05-28 15:30:56,273 ¦ nanotune.tuningstages.take_data ¦ WARNING ¦ take_data ¦ ramp_to_setpoint ¦ 130 ¦ Unable to ramp to new voltage. It will be set.\n",
      "2021-05-28 15:30:56,290 ¦ nanotune.tuningstages.take_data ¦ WARNING ¦ take_data ¦ ramp_to_setpoint ¦ 130 ¦ Unable to ramp to new voltage. It will be set.\n",
      "2021-05-28 15:30:56,309 ¦ nanotune.tuningstages.take_data ¦ WARNING ¦ take_data ¦ ramp_to_setpoint ¦ 130 ¦ Unable to ramp to new voltage. It will be set.\n",
      "2021-05-28 15:30:56,324 ¦ nanotune.tuningstages.take_data ¦ WARNING ¦ take_data ¦ ramp_to_setpoint ¦ 130 ¦ Unable to ramp to new voltage. It will be set.\n",
      "2021-05-28 15:30:56,340 ¦ nanotune.tuningstages.take_data ¦ WARNING ¦ take_data ¦ ramp_to_setpoint ¦ 130 ¦ Unable to ramp to new voltage. It will be set.\n",
      "2021-05-28 15:30:56,359 ¦ nanotune.tuningstages.take_data ¦ WARNING ¦ take_data ¦ ramp_to_setpoint ¦ 130 ¦ Unable to ramp to new voltage. It will be set.\n",
      "2021-05-28 15:30:56,377 ¦ nanotune.tuningstages.take_data ¦ WARNING ¦ take_data ¦ ramp_to_setpoint ¦ 130 ¦ Unable to ramp to new voltage. It will be set.\n",
      "2021-05-28 15:30:56,399 ¦ nanotune.tuningstages.take_data ¦ WARNING ¦ take_data ¦ ramp_to_setpoint ¦ 130 ¦ Unable to ramp to new voltage. It will be set.\n",
      "2021-05-28 15:30:56,414 ¦ nanotune.tuningstages.take_data ¦ WARNING ¦ take_data ¦ ramp_to_setpoint ¦ 130 ¦ Unable to ramp to new voltage. It will be set.\n",
      "2021-05-28 15:30:56,428 ¦ nanotune.tuningstages.take_data ¦ WARNING ¦ take_data ¦ ramp_to_setpoint ¦ 130 ¦ Unable to ramp to new voltage. It will be set.\n",
      "2021-05-28 15:30:56,451 ¦ nanotune.tuningstages.take_data ¦ WARNING ¦ take_data ¦ ramp_to_setpoint ¦ 130 ¦ Unable to ramp to new voltage. It will be set.\n",
      "2021-05-28 15:30:56,462 ¦ nanotune.tuningstages.take_data ¦ WARNING ¦ take_data ¦ ramp_to_setpoint ¦ 130 ¦ Unable to ramp to new voltage. It will be set.\n",
      "2021-05-28 15:30:56,480 ¦ nanotune.tuningstages.take_data ¦ WARNING ¦ take_data ¦ ramp_to_setpoint ¦ 130 ¦ Unable to ramp to new voltage. It will be set.\n",
      "2021-05-28 15:30:56,495 ¦ nanotune.tuningstages.take_data ¦ WARNING ¦ take_data ¦ ramp_to_setpoint ¦ 130 ¦ Unable to ramp to new voltage. It will be set.\n",
      "2021-05-28 15:30:56,511 ¦ nanotune.tuningstages.take_data ¦ WARNING ¦ take_data ¦ ramp_to_setpoint ¦ 130 ¦ Unable to ramp to new voltage. It will be set.\n",
      "2021-05-28 15:30:56,527 ¦ nanotune.tuningstages.take_data ¦ WARNING ¦ take_data ¦ ramp_to_setpoint ¦ 130 ¦ Unable to ramp to new voltage. It will be set.\n",
      "2021-05-28 15:30:56,541 ¦ nanotune.tuningstages.take_data ¦ WARNING ¦ take_data ¦ ramp_to_setpoint ¦ 130 ¦ Unable to ramp to new voltage. It will be set.\n",
      "2021-05-28 15:30:56,556 ¦ nanotune.tuningstages.take_data ¦ WARNING ¦ take_data ¦ ramp_to_setpoint ¦ 130 ¦ Unable to ramp to new voltage. It will be set.\n",
      "2021-05-28 15:30:56,573 ¦ nanotune.tuningstages.take_data ¦ WARNING ¦ take_data ¦ ramp_to_setpoint ¦ 130 ¦ Unable to ramp to new voltage. It will be set.\n",
      "2021-05-28 15:30:56,592 ¦ nanotune.tuningstages.take_data ¦ WARNING ¦ take_data ¦ ramp_to_setpoint ¦ 130 ¦ Unable to ramp to new voltage. It will be set.\n",
      "2021-05-28 15:30:56,607 ¦ nanotune.tuningstages.take_data ¦ WARNING ¦ take_data ¦ ramp_to_setpoint ¦ 130 ¦ Unable to ramp to new voltage. It will be set.\n",
      "2021-05-28 15:30:56,622 ¦ nanotune.tuningstages.take_data ¦ WARNING ¦ take_data ¦ ramp_to_setpoint ¦ 130 ¦ Unable to ramp to new voltage. It will be set.\n",
      "2021-05-28 15:30:56,639 ¦ nanotune.tuningstages.take_data ¦ WARNING ¦ take_data ¦ ramp_to_setpoint ¦ 130 ¦ Unable to ramp to new voltage. It will be set.\n",
      "2021-05-28 15:30:56,661 ¦ nanotune.tuningstages.take_data ¦ WARNING ¦ take_data ¦ ramp_to_setpoint ¦ 130 ¦ Unable to ramp to new voltage. It will be set.\n",
      "2021-05-28 15:30:56,684 ¦ nanotune.tuningstages.take_data ¦ WARNING ¦ take_data ¦ ramp_to_setpoint ¦ 130 ¦ Unable to ramp to new voltage. It will be set.\n",
      "2021-05-28 15:30:56,700 ¦ nanotune.tuningstages.take_data ¦ WARNING ¦ take_data ¦ ramp_to_setpoint ¦ 130 ¦ Unable to ramp to new voltage. It will be set.\n",
      "2021-05-28 15:30:56,726 ¦ nanotune.tuningstages.take_data ¦ WARNING ¦ take_data ¦ ramp_to_setpoint ¦ 130 ¦ Unable to ramp to new voltage. It will be set.\n"
     ]
    },
    {
     "name": "stdout",
     "output_type": "stream",
     "text": [
      "Starting experimental run with id: 367. \n",
      "Starting experimental run with id: 368. \n",
      "Starting experimental run with id: 369. \n",
      "Starting experimental run with id: 370. \n",
      "Starting experimental run with id: 371. \n",
      "Starting experimental run with id: 372. \n"
     ]
    },
    {
     "data": {
      "image/png": "[encoded data removed]",
      "text/plain": [
       "<Figure size 504x288 with 2 Axes>"
      ]
     },
     "metadata": {
      "needs_background": "light"
     },
     "output_type": "display_data"
    },
    {
     "name": "stdout",
     "output_type": "stream",
     "text": [
      "chargediagram: Good result measured. Regime: doubledot. Termination reasons: None. \n"
     ]
    }
   ],
   "source": [
    "tuning_result = chadiag.run_stage()"
   ]
  },
  {
   "cell_type": "code",
   "execution_count": 9,
   "id": "blind-fairy",
   "metadata": {},
   "outputs": [
    {
     "data": {
      "text/plain": [
       "True"
      ]
     },
     "execution_count": 9,
     "metadata": {},
     "output_type": "execute_result"
    }
   ],
   "source": [
    "tuning_result.success"
   ]
  },
  {
   "cell_type": "code",
   "execution_count": 10,
   "id": "seasonal-harbor",
   "metadata": {},
   "outputs": [
    {
     "data": {
      "text/plain": [
       "{'dot_segments': {367: {'voltage_ranges': [(-0.622073578595318,\n",
       "     -0.428312955754153),\n",
       "    (-0.451505016722408, -0.236013986013986)],\n",
       "   'predicted_regime': 3},\n",
       "  368: {'voltage_ranges': [(-0.622073578595318, -0.428312955754153),\n",
       "    (-0.225752508361204, 0.0)],\n",
       "   'predicted_regime': 3},\n",
       "  369: {'voltage_ranges': [(-0.418115028236197, -0.224354405395033),\n",
       "    (-0.451505016722408, -0.236013986013986)],\n",
       "   'predicted_regime': 3},\n",
       "  370: {'voltage_ranges': [(-0.418115028236197, -0.224354405395033),\n",
       "    (-0.225752508361204, 0.0)],\n",
       "   'predicted_regime': 3},\n",
       "  371: {'voltage_ranges': [(-0.214156477877077, 0.0),\n",
       "    (-0.451505016722408, -0.236013986013986)],\n",
       "   'predicted_regime': 3},\n",
       "  372: {'voltage_ranges': [(-0.214156477877077, 0.0),\n",
       "    (-0.225752508361204, 0.0)],\n",
       "   'predicted_regime': 3}},\n",
       " 'regime': 'doubledot',\n",
       " 'quality': True,\n",
       " 'features': {'transport': {'triple_points': [([0.01446705392538609, None],\n",
       "     [0.010197927517956007, 0.010261477652782014],\n",
       "     [-0.397719173200285, -0.164183642444512],\n",
       "     [-0.407917100718241, -0.15392216479173])]}}}"
      ]
     },
     "execution_count": 10,
     "metadata": {},
     "output_type": "execute_result"
    }
   ],
   "source": [
    "# Note that a mock classifier was used, which always returns True == good result\n",
    "tuning_result.ml_result"
   ]
  },
  {
   "cell_type": "code",
   "execution_count": 11,
   "id": "abandoned-anaheim",
   "metadata": {},
   "outputs": [
    {
     "data": {
      "text/plain": [
       "[51]"
      ]
     },
     "execution_count": 11,
     "metadata": {},
     "output_type": "execute_result"
    }
   ],
   "source": [
    "tuning_result.data_ids"
   ]
  },
  {
   "cell_type": "code",
   "execution_count": null,
   "id": "incorrect-allen",
   "metadata": {},
   "outputs": [],
   "source": []
  },
  {
   "cell_type": "code",
   "execution_count": null,
   "id": "separated-privilege",
   "metadata": {},
   "outputs": [],
   "source": []
  }
 ],
 "metadata": {
  "kernelspec": {
   "display_name": "Python 3",
   "language": "python",
   "name": "python3"
  },
  "language_info": {
   "codemirror_mode": {
    "name": "ipython",
    "version": 3
   },
   "file_extension": ".py",
   "mimetype": "text/x-python",
   "name": "python",
   "nbconvert_exporter": "python",
   "pygments_lexer": "ipython3",
   "version": "3.7.9"
  }
 },
 "nbformat": 4,
 "nbformat_minor": 5
}
