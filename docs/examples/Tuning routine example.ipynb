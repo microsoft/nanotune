{
 "cells": [
  {
   "cell_type": "code",
   "execution_count": 1,
   "id": "295f32d9",
   "metadata": {},
   "outputs": [],
   "source": [
    "from prefect import task, Flow"
   ]
  },
  {
   "cell_type": "code",
   "execution_count": 2,
   "id": "e3043e4a",
   "metadata": {
    "scrolled": false
   },
   "outputs": [
    {
     "name": "stdout",
     "output_type": "stream",
     "text": [
      "C01R01_gate step 0.0005\n",
      "C01R01_gate inter_delay 0.00125\n"
     ]
    }
   ],
   "source": [
    "%run load_station.py"
   ]
  },
  {
   "cell_type": "code",
   "execution_count": 3,
   "id": "9aeac78e",
   "metadata": {},
   "outputs": [],
   "source": [
    "from typing import Tuple\n",
    "\n",
    "from nanotune.tuningstages.base_tasks import (\n",
    "    SetpointSettingsDict,\n",
    "    DataSettingsDict,\n",
    "    ReadoutDict,\n",
    "    compute_linear_setpoints,\n",
    "    swap_range_limits_if_needed,\n",
    "    get_current_voltages,\n",
    "    take_data_add_metadata,\n",
    "    set_up_gates_for_measurement,\n",
    "    prepare_metadata\n",
    ")\n",
    "\n",
    "from nanotune.tuningstages.take_data import ramp_to_setpoint"
   ]
  },
  {
   "cell_type": "code",
   "execution_count": 4,
   "id": "f84a9dc8",
   "metadata": {},
   "outputs": [],
   "source": [
    "@task\n",
    "def create_settings() -> Tuple[SetpointSettingsDict, ReadoutDict, DataSettingsDict]:\n",
    "    setpoint_settings = SetpointSettingsDict(\n",
    "        parameters_to_sweep=[chip.C01R01.gate],\n",
    "        current_valid_ranges=[(-2.0, 0.0)],\n",
    "        safety_voltage_ranges=[(-2.0, 2.0)],\n",
    "        voltage_precision=0.01\n",
    "    )\n",
    "\n",
    "    readout_methods = ReadoutDict(\n",
    "        transport = chip.C01R01.source,\n",
    "        sensing = chip.C01R01.drain,\n",
    "        rf = mux.readout\n",
    "    )\n",
    "\n",
    "    data_settings = DataSettingsDict(\n",
    "        db_name=\"forqtest\",\n",
    "        db_folder=\"~\",\n",
    "        normalization_constants={\"foo\": (1.0, 1.0)},\n",
    "        segment_size=1,\n",
    "        segment_db_name=\"forqtest_1\",\n",
    "        segment_db_folder=\"~\"\n",
    "    )\n",
    "\n",
    "    return (\n",
    "        setpoint_settings,\n",
    "        readout_methods,\n",
    "        data_settings\n",
    "    )"
   ]
  },
  {
   "cell_type": "code",
   "execution_count": 5,
   "id": "1e380110",
   "metadata": {},
   "outputs": [],
   "source": [
    "@task\n",
    "def compute_setpoints(setpoint_settings):\n",
    "    initial_voltages = get_current_voltages(\n",
    "        setpoint_settings[\"parameters_to_sweep\"]\n",
    "    )\n",
    "\n",
    "    current_valid_ranges = swap_range_limits_if_needed(\n",
    "        initial_voltages,\n",
    "        setpoint_settings[\"current_valid_ranges\"]\n",
    "    )\n",
    "\n",
    "    setpoints = compute_linear_setpoints(\n",
    "        current_valid_ranges,\n",
    "        setpoint_settings[\"voltage_precision\"],\n",
    "    )\n",
    "    return setpoints"
   ]
  },
  {
   "cell_type": "code",
   "execution_count": 6,
   "id": "bef1cd44",
   "metadata": {},
   "outputs": [],
   "source": [
    "@task\n",
    "def measure(setpoints, setpoint_settings, data_settings, readout_methods):\n",
    "    example_param = setpoint_settings[\"parameters_to_sweep\"][0]\n",
    "    device_name = example_param.name_parts[0]\n",
    "    nt_meta = prepare_metadata(\n",
    "        chip.C01R01.name,\n",
    "        data_settings[normalization_constants\"],\n",
    "        readout_methods,\n",
    "    )\n",
    "    sensing = readout_methods[\"sensing\"]\n",
    "\n",
    "    def finish_early(current_output_dict):\n",
    "        return current_output_dict[str(sensing)] < 0.0001\n",
    "\n",
    "    run_id = take_data_add_metadata(\n",
    "        setpoint_settings[\"parameters_to_sweep\"],\n",
    "        list(readout_methods.values()),  # type: ignore\n",
    "        setpoints,\n",
    "        finish_early_check=finish_early,\n",
    "        do_at_inner_setpoint=ramp_to_setpoint,\n",
    "        pre_measurement_metadata=nt_meta,\n",
    "    )\n",
    "\n",
    "    return run_id"
   ]
  },
  {
   "cell_type": "code",
   "execution_count": 7,
   "id": "010e2628",
   "metadata": {},
   "outputs": [],
   "source": [
    "@task\n",
    "def plot(run_id, setpoint_settings, readout_methods):\n",
    "    ds = qc.load_by_id(run_id)\n",
    "    gate = setpoint_settings[\"parameters_to_sweep\"][0]\n",
    "    sensing = readout_methods[\"sensing\"]\n",
    "    df_dict = ds.to_pandas_dataframe_dict()\n",
    "    df_dict[str(sensing)].plot()"
   ]
  },
  {
   "cell_type": "code",
   "execution_count": 8,
   "id": "3b7be764",
   "metadata": {},
   "outputs": [],
   "source": [
    "with Flow(\"Pinch-off\") as flow:\n",
    "    (setpoint_settings, readout_methods, data_settings) = create_settings()\n",
    "    setpoints = compute_setpoints(setpoint_settings)\n",
    "    run_id = measure(setpoints, setpoint_settings, data_settings, readout_methods)\n",
    "    fig = plot(run_id, setpoint_settings, readout_methods)"
   ]
  },
  {
   "cell_type": "code",
   "execution_count": 9,
   "id": "73d99721",
   "metadata": {},
   "outputs": [
    {
     "name": "stdout",
     "output_type": "stream",
     "text": [
      "[2021-05-26 20:14:24-0700] INFO - prefect.FlowRunner | Beginning Flow run for 'Pinch-off'\n",
      "[2021-05-26 20:14:24-0700] INFO - prefect.TaskRunner | Task 'create_settings': Starting task run...\n",
      "[2021-05-26 20:14:24-0700] INFO - prefect.TaskRunner | Task 'create_settings': Finished task run for task with final state: 'Success'\n",
      "[2021-05-26 20:14:24-0700] INFO - prefect.TaskRunner | Task 'create_settings[0]': Starting task run...\n",
      "[2021-05-26 20:14:24-0700] INFO - prefect.TaskRunner | Task 'create_settings[0]': Finished task run for task with final state: 'Success'\n",
      "[2021-05-26 20:14:24-0700] INFO - prefect.TaskRunner | Task 'compute_setpoints': Starting task run...\n",
      "[2021-05-26 20:14:24-0700] INFO - prefect.TaskRunner | Task 'compute_setpoints': Finished task run for task with final state: 'Success'\n",
      "[2021-05-26 20:14:24-0700] INFO - prefect.TaskRunner | Task 'create_settings[1]': Starting task run...\n",
      "[2021-05-26 20:14:24-0700] INFO - prefect.TaskRunner | Task 'create_settings[1]': Finished task run for task with final state: 'Success'\n",
      "[2021-05-26 20:14:24-0700] INFO - prefect.TaskRunner | Task 'create_settings[2]': Starting task run...\n",
      "[2021-05-26 20:14:24-0700] INFO - prefect.TaskRunner | Task 'create_settings[2]': Finished task run for task with final state: 'Success'\n",
      "[2021-05-26 20:14:24-0700] INFO - prefect.TaskRunner | Task 'measure': Starting task run...\n",
      "Starting experimental run with id: 834. \n",
      "[2021-05-26 20:14:28-0700] INFO - prefect.TaskRunner | Task 'measure': Finished task run for task with final state: 'Success'\n",
      "[2021-05-26 20:14:28-0700] INFO - prefect.TaskRunner | Task 'plot': Starting task run...\n",
      "[2021-05-26 20:14:28-0700] INFO - prefect.TaskRunner | Task 'plot': Finished task run for task with final state: 'Success'\n",
      "[2021-05-26 20:14:28-0700] INFO - prefect.FlowRunner | Flow run SUCCESS: all reference tasks succeeded\n"
     ]
    },
    {
     "data": {
      "image/png": "[encoded data removed]",
      "text/plain": [
       "<Figure size 432x288 with 1 Axes>"
      ]
     },
     "metadata": {
      "needs_background": "light"
     },
     "output_type": "display_data"
    }
   ],
   "source": [
    "state = flow.run()"
   ]
  },
  {
   "cell_type": "code",
   "execution_count": null,
   "id": "2f987e88",
   "metadata": {},
   "outputs": [],
   "source": []
  }
 ],
 "metadata": {
  "kernelspec": {
   "display_name": "Python 3",
   "language": "python",
   "name": "python3"
  },
  "language_info": {
   "codemirror_mode": {
    "name": "ipython",
    "version": 3
   },
   "file_extension": ".py",
   "mimetype": "text/x-python",
   "name": "python",
   "nbconvert_exporter": "python",
   "pygments_lexer": "ipython3",
   "version": "3.9.1"
  }
 },
 "nbformat": 4,
 "nbformat_minor": 5
}
