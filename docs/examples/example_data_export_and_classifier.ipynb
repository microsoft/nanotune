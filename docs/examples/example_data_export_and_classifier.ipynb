{
 "cells": [
  {
   "cell_type": "markdown",
   "id": "b34048a3",
   "metadata": {},
   "source": [
    "# Data export and classification"
   ]
  },
  {
   "cell_type": "code",
   "execution_count": 1,
   "id": "a8b5f676",
   "metadata": {},
   "outputs": [
    {
     "name": "stdout",
     "output_type": "stream",
     "text": [
      "Logging hadn't been started.\n",
      "Activating auto-logging. Current session state plus future input saved.\n",
      "Filename       : /Users/jana/.qcodes/logs/command_history.log\n",
      "Mode           : append\n",
      "Output logging : True\n",
      "Raw input log  : False\n",
      "Timestamping   : True\n",
      "State          : active\n",
      "Qcodes Logfile : /Users/jana/.qcodes/logs/210810-22969-qcodes.log\n"
     ]
    }
   ],
   "source": [
    "import os\n",
    "import numpy as np\n",
    "import qcodes as qc\n",
    "import nanotune as nt\n",
    "\n",
    "from nanotune.data.export_data import correct_normalizations, export_data, prep_data\n",
    "from nanotune.classification.classifier import Classifier\n",
    "nt_root = os.path.dirname(os.path.dirname(os.path.abspath(nt.__file__)))"
   ]
  },
  {
   "cell_type": "code",
   "execution_count": null,
   "id": "180cfb6c",
   "metadata": {},
   "outputs": [],
   "source": []
  },
  {
   "cell_type": "markdown",
   "id": "778dfc9e",
   "metadata": {},
   "source": [
    "## Export labelled data to a numpy file"
   ]
  },
  {
   "cell_type": "code",
   "execution_count": 2,
   "id": "e4530c74",
   "metadata": {},
   "outputs": [],
   "source": [
    "export_data('pinchoff', ['device_characterization.db'], db_folder=os.path.join(nt_root, 'data', 'tuning'), filename='test_export_data')"
   ]
  },
  {
   "cell_type": "markdown",
   "id": "24f3684a",
   "metadata": {},
   "source": [
    "## Train classifier with the data saved in the numpy file. \n",
    "Note that this is just to small demo and that the data in the file is not sufficient for real-life purposes."
   ]
  },
  {
   "cell_type": "code",
   "execution_count": 3,
   "id": "7ba44cd3",
   "metadata": {},
   "outputs": [],
   "source": [
    "pinchoff_classifier = Classifier(\n",
    "        ['test_export_data.npy'],\n",
    "        'pinchoff',\n",
    "        data_types=[\"signal\"],\n",
    "        classifier=\"SVC\",\n",
    "        folder_path=os.path.join(nt_root, 'data', 'tuning'),\n",
    "    )"
   ]
  },
  {
   "cell_type": "code",
   "execution_count": 4,
   "id": "499cdb17",
   "metadata": {},
   "outputs": [],
   "source": [
    "pinchoff_classifier.train()"
   ]
  },
  {
   "cell_type": "markdown",
   "id": "a1db20a2",
   "metadata": {},
   "source": [
    "We can predict the quality of a dataset as follows. Note that this is again just to show how the code works and that a classifier should not be used to predict data it has trained on."
   ]
  },
  {
   "cell_type": "code",
   "execution_count": 5,
   "id": "233b77ea",
   "metadata": {},
   "outputs": [
    {
     "data": {
      "text/plain": [
       "[array([1])]"
      ]
     },
     "execution_count": 5,
     "metadata": {},
     "output_type": "execute_result"
    }
   ],
   "source": [
    "pinchoff_classifier.predict(1203, db_name='device_characterization.db', db_folder=os.path.join(nt_root, 'data', 'tuning'))"
   ]
  },
  {
   "cell_type": "code",
   "execution_count": null,
   "id": "82ee6cf9",
   "metadata": {},
   "outputs": [],
   "source": []
  }
 ],
 "metadata": {
  "kernelspec": {
   "display_name": "Python 3 (ipykernel)",
   "language": "python",
   "name": "python3"
  },
  "language_info": {
   "codemirror_mode": {
    "name": "ipython",
    "version": 3
   },
   "file_extension": ".py",
   "mimetype": "text/x-python",
   "name": "python",
   "nbconvert_exporter": "python",
   "pygments_lexer": "ipython3",
   "version": "3.8.10"
  }
 },
 "nbformat": 4,
 "nbformat_minor": 5
}
