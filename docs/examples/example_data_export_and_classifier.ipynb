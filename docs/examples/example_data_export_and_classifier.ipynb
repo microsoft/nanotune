{
 "cells": [
  {
   "cell_type": "markdown",
   "id": "b34048a3",
   "metadata": {},
   "source": [
    "# Data export and classification"
   ]
  },
  {
   "cell_type": "code",
   "execution_count": 1,
   "id": "a8b5f676",
   "metadata": {},
   "outputs": [
    {
     "name": "stdout",
     "output_type": "stream",
     "text": [
      "Logging hadn't been started.\n",
      "Activating auto-logging. Current session state plus future input saved.\n",
      "Filename       : /Users/jana/.qcodes/logs/command_history.log\n",
      "Mode           : append\n",
      "Output logging : True\n",
      "Raw input log  : False\n",
      "Timestamping   : True\n",
      "State          : active\n",
      "Qcodes Logfile : /Users/jana/.qcodes/logs/210811-78354-qcodes.log\n"
     ]
    }
   ],
   "source": [
    "import os\n",
    "import numpy as np\n",
    "import qcodes as qc\n",
    "import nanotune as nt\n",
    "\n",
    "from nanotune.data.export_data import correct_normalizations, export_data, prep_data\n",
    "from nanotune.classification.classifier import Classifier, METRIC_NAMES\n",
    "from nanotune.classification.utils import display_metrics\n",
    "\n",
    "nt_root = os.path.dirname(os.path.dirname(os.path.abspath(nt.__file__)))"
   ]
  },
  {
   "cell_type": "markdown",
   "id": "778dfc9e",
   "metadata": {},
   "source": [
    "## Export labelled data to a numpy file"
   ]
  },
  {
   "cell_type": "code",
   "execution_count": 2,
   "id": "e4530c74",
   "metadata": {},
   "outputs": [],
   "source": [
    "export_data('pinchoff', ['device_characterization.db'], db_folder=os.path.join(nt_root, 'data', 'tuning'), filename='test_export_data')"
   ]
  },
  {
   "cell_type": "markdown",
   "id": "24f3684a",
   "metadata": {},
   "source": [
    "## Train classifier with the data saved in the numpy file. \n",
    "Note that this is just to small demo and that the data in the file is not sufficient for real-life purposes."
   ]
  },
  {
   "cell_type": "code",
   "execution_count": 3,
   "id": "7ba44cd3",
   "metadata": {},
   "outputs": [],
   "source": [
    "pinchoff_classifier = Classifier(\n",
    "        ['test_export_data.npy'],\n",
    "        'pinchoff',\n",
    "        data_types=[\"signal\"],\n",
    "        classifier_type=\"SVC\",\n",
    "        folder_path=os.path.join(nt_root, 'data', 'tuning'),\n",
    "    )"
   ]
  },
  {
   "cell_type": "code",
   "execution_count": 4,
   "id": "499cdb17",
   "metadata": {},
   "outputs": [],
   "source": [
    "pinchoff_classifier.train()"
   ]
  },
  {
   "cell_type": "markdown",
   "id": "a1db20a2",
   "metadata": {},
   "source": [
    "# Predict the quality of a dataset. \n",
    "Note that this is again just to show how the code works and that a classifier should not be used to predict data it was trained on."
   ]
  },
  {
   "cell_type": "code",
   "execution_count": 5,
   "id": "233b77ea",
   "metadata": {},
   "outputs": [
    {
     "data": {
      "text/plain": [
       "[array([1])]"
      ]
     },
     "execution_count": 5,
     "metadata": {},
     "output_type": "execute_result"
    }
   ],
   "source": [
    "pinchoff_classifier.predict(1203, db_name='device_characterization.db', db_folder=os.path.join(nt_root, 'data', 'tuning'))"
   ]
  },
  {
   "cell_type": "code",
   "execution_count": 6,
   "id": "8557c3cf",
   "metadata": {},
   "outputs": [],
   "source": [
    "pinchoff_classifier = Classifier(\n",
    "        ['pinchoff.npy'],\n",
    "        'pinchoff',\n",
    "        data_types=[\"signal\"],\n",
    "        classifier_type=\"SVC\",\n",
    "        folder_path=os.path.join(nt_root, 'data', 'training_data'),\n",
    "    )"
   ]
  },
  {
   "cell_type": "markdown",
   "id": "15360132",
   "metadata": {},
   "source": [
    "We can also compute metrics such as accuracy..."
   ]
  },
  {
   "cell_type": "code",
   "execution_count": 7,
   "id": "82ee6cf9",
   "metadata": {
    "scrolled": true
   },
   "outputs": [],
   "source": [
    "metrics_results, metrics_all_iterations = pinchoff_classifier.compute_metrics(save_to_file=False, n_iter=10)"
   ]
  },
  {
   "cell_type": "markdown",
   "id": "3e601de7",
   "metadata": {},
   "source": [
    "..and display them."
   ]
  },
  {
   "cell_type": "code",
   "execution_count": 8,
   "id": "145ffd89",
   "metadata": {},
   "outputs": [
    {
     "name": "stdout",
     "output_type": "stream",
     "text": [
      "+--------------------------+---------------+---------------------------+\n",
      "|          metric          |      mean     |            std            |\n",
      "+--------------------------+---------------+---------------------------+\n",
      "|      accuracy_score      |     0.865     |           0.018           |\n",
      "|     brier_score_loss     |     0.135     |           0.018           |\n",
      "|           auc            |     0.908     |           0.010           |\n",
      "| average_precision_recall |     0.849     |           0.026           |\n",
      "| average_precision_recall |  [[94.9 19.9] |  [[4.94873721 3.01496269] |\n",
      "|                          |  [10.4 98.8]] |  [2.53771551 5.4       ]] |\n",
      "+--------------------------+---------------+---------------------------+\n"
     ]
    }
   ],
   "source": [
    "display_metrics(metrics_results)"
   ]
  },
  {
   "cell_type": "code",
   "execution_count": 9,
   "id": "917c7d9c",
   "metadata": {},
   "outputs": [
    {
     "data": {
      "text/plain": [
       "{'n_iter': 10,\n",
       " 'classifier': 'SVC',\n",
       " 'category': 'pinchoff',\n",
       " 'data_files': ['/Users/jana/Documents/code/nanotune/nanotune/data/training_data/pinchoff.npy'],\n",
       " 'data_types': ['signal'],\n",
       " 'hyper_parameters': {'C': 1.0,\n",
       "  'break_ties': False,\n",
       "  'cache_size': 200,\n",
       "  'class_weight': None,\n",
       "  'coef0': 0.0,\n",
       "  'decision_function_shape': 'ovr',\n",
       "  'degree': 3,\n",
       "  'gamma': 'auto',\n",
       "  'kernel': 'linear',\n",
       "  'max_iter': -1,\n",
       "  'probability': True,\n",
       "  'random_state': None,\n",
       "  'shrinking': True,\n",
       "  'tol': 0.001,\n",
       "  'verbose': False},\n",
       " 'metric_names': ['accuracy_score',\n",
       "  'brier_score_loss',\n",
       "  'auc',\n",
       "  'average_precision_recall'],\n",
       " 'elapsed_time [s/iter]': 0.50068359375,\n",
       " 'n_test': 224,\n",
       " 'n_train': 894,\n",
       " 'mean_train_time': 0.4828409433364868,\n",
       " 'std_train_time': 0.17421900020679665,\n",
       " 'perform_pca': False,\n",
       " 'scale_pc': False,\n",
       " 'metadata': {},\n",
       " 'supp_train_data': None,\n",
       " 'accuracy_score': {'std': 0.01752480930927727, 'mean': 0.8647321428571428},\n",
       " 'brier_score_loss': {'std': 0.017524809309277255,\n",
       "  'mean': 0.13526785714285713},\n",
       " 'auc': {'std': 0.009585446060276219, 'mean': 0.90757414497835},\n",
       " 'average_precision_recall': {'std': 0.0261503896048999,\n",
       "  'mean': 0.8492568944156931},\n",
       " 'confusion_matrix': {'std': [[4.948737212663448, 3.0149626863362675],\n",
       "   [2.5377155080899043, 5.3999999999999995]],\n",
       "  'mean': [[94.9, 19.9], [10.4, 98.8]]}}"
      ]
     },
     "execution_count": 9,
     "metadata": {},
     "output_type": "execute_result"
    }
   ],
   "source": [
    "metrics_results"
   ]
  },
  {
   "cell_type": "code",
   "execution_count": 10,
   "id": "8de442fd",
   "metadata": {},
   "outputs": [
    {
     "name": "stdout",
     "output_type": "stream",
     "text": [
      "accuracy_score\n",
      "[0.84375    0.87053571 0.89285714 0.89285714 0.83928571 0.85714286\n",
      " 0.85267857 0.85714286 0.875      0.86607143]\n",
      "\n",
      "\n",
      "brier_score_loss\n",
      "[0.15625    0.12946429 0.10714286 0.10714286 0.16071429 0.14285714\n",
      " 0.14732143 0.14285714 0.125      0.13392857]\n",
      "\n",
      "\n",
      "auc\n",
      "[0.92009569 0.89974457 0.91685484 0.91328281 0.89071652 0.89775541\n",
      " 0.89971989 0.91479856 0.91679298 0.90598017]\n",
      "\n",
      "\n",
      "average_precision_recall\n",
      "[0.86897016 0.8602443  0.82695177 0.89628809 0.79604814 0.82405493\n",
      " 0.8573906  0.85655914 0.85466862 0.8513932 ]\n",
      "\n",
      "\n"
     ]
    }
   ],
   "source": [
    "for metric_name, value in zip(METRIC_NAMES, metrics_results):\n",
    "    print(metric_name)\n",
    "    print(value)\n",
    "    print('\\n')"
   ]
  },
  {
   "cell_type": "code",
   "execution_count": null,
   "id": "bb5950bc",
   "metadata": {},
   "outputs": [],
   "source": []
  }
 ],
 "metadata": {
  "kernelspec": {
   "display_name": "Python 3 (ipykernel)",
   "language": "python",
   "name": "python3"
  },
  "language_info": {
   "codemirror_mode": {
    "name": "ipython",
    "version": 3
   },
   "file_extension": ".py",
   "mimetype": "text/x-python",
   "name": "python",
   "nbconvert_exporter": "python",
   "pygments_lexer": "ipython3",
   "version": "3.8.10"
  }
 },
 "nbformat": 4,
 "nbformat_minor": 5
}
