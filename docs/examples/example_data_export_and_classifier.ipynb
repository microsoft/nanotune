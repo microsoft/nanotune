{
 "cells": [
  {
   "cell_type": "markdown",
   "id": "b34048a3",
   "metadata": {},
   "source": [
    "# Data export and classification"
   ]
  },
  {
   "cell_type": "code",
   "execution_count": 11,
   "id": "a8b5f676",
   "metadata": {},
   "outputs": [],
   "source": [
    "import os\n",
    "import numpy as np\n",
    "import qcodes as qc\n",
    "import nanotune as nt\n",
    "\n",
    "from nanotune.data.export_data import correct_normalizations, export_data, prep_data\n",
    "from nanotune.classification.classifier import Classifier, METRIC_NAMES\n",
    "from nanotune.classification.utils import display_metrics\n",
    "\n",
    "nt_root = os.path.dirname(os.path.dirname(os.path.abspath(nt.__file__)))"
   ]
  },
  {
   "cell_type": "markdown",
   "id": "778dfc9e",
   "metadata": {},
   "source": [
    "## Export labelled data to a numpy file"
   ]
  },
  {
   "cell_type": "code",
   "execution_count": 12,
   "id": "e4530c74",
   "metadata": {},
   "outputs": [],
   "source": [
    "export_data('pinchoff', ['device_characterization.db'], db_folder=os.path.join(nt_root, 'data', 'tuning'), filename='test_export_data')"
   ]
  },
  {
   "cell_type": "markdown",
   "id": "24f3684a",
   "metadata": {},
   "source": [
    "## Train classifier with the data saved in the numpy file. \n",
    "Note that this is just to small demo and that the data in the file is not sufficient for real-life purposes."
   ]
  },
  {
   "cell_type": "code",
   "execution_count": 13,
   "id": "7ba44cd3",
   "metadata": {},
   "outputs": [],
   "source": [
    "pinchoff_classifier = Classifier(\n",
    "        ['test_export_data.npy'],\n",
    "        'pinchoff',\n",
    "        data_types=[\"signal\"],\n",
    "        classifier_type=\"SVC\",\n",
    "        folder_path=os.path.join(nt_root, 'data', 'tuning'),\n",
    "    )"
   ]
  },
  {
   "cell_type": "code",
   "execution_count": 14,
   "id": "499cdb17",
   "metadata": {},
   "outputs": [],
   "source": [
    "pinchoff_classifier.train()"
   ]
  },
  {
   "cell_type": "markdown",
   "id": "a1db20a2",
   "metadata": {},
   "source": [
    "# Predict the quality of a dataset. \n",
    "Note that this is again just to show how the code works and that a classifier should not be used to predict data it was trained on."
   ]
  },
  {
   "cell_type": "code",
   "execution_count": 15,
   "id": "233b77ea",
   "metadata": {},
   "outputs": [
    {
     "data": {
      "text/plain": [
       "[array([1])]"
      ]
     },
     "execution_count": 15,
     "metadata": {},
     "output_type": "execute_result"
    }
   ],
   "source": [
    "pinchoff_classifier.predict(1203, db_name='device_characterization.db', db_folder=os.path.join(nt_root, 'data', 'tuning'))"
   ]
  },
  {
   "cell_type": "code",
   "execution_count": 16,
   "id": "f8b66019",
   "metadata": {},
   "outputs": [],
   "source": [
    "pinchoff_classifier = Classifier(\n",
    "        ['pinchoff.npy'],\n",
    "        'pinchoff',\n",
    "        data_types=[\"signal\"],\n",
    "        classifier_type=\"SVC\",\n",
    "        folder_path=os.path.join(nt_root, 'data', 'training_data'),\n",
    "    )"
   ]
  },
  {
   "cell_type": "markdown",
   "id": "52dedf08",
   "metadata": {},
   "source": [
    "We can also compute metrics such as accuracy..."
   ]
  },
  {
   "cell_type": "code",
   "execution_count": 17,
   "id": "82ee6cf9",
   "metadata": {
    "scrolled": true
   },
   "outputs": [],
   "source": [
    "metrics_results, metrics_all_iterations = pinchoff_classifier.compute_metrics(save_to_file=False, n_iter=10)"
   ]
  },
  {
   "cell_type": "markdown",
   "id": "c84c1340",
   "metadata": {},
   "source": [
    "..and display them."
   ]
  },
  {
   "cell_type": "code",
   "execution_count": 18,
   "id": "a634866f",
   "metadata": {},
   "outputs": [
    {
     "name": "stdout",
     "output_type": "stream",
     "text": [
      "+--------------------------+-----------------+---------------------------+\n",
      "|          metric          |       mean      |            std            |\n",
      "+--------------------------+-----------------+---------------------------+\n",
      "|      accuracy_score      |      0.857      |           0.022           |\n",
      "|     brier_score_loss     |      0.143      |           0.022           |\n",
      "|           auc            |      0.899      |           0.026           |\n",
      "| average_precision_recall |      0.878      |           0.050           |\n",
      "| average_precision_recall |  [[ 91.1  17.3] |  [[7.84155597 3.79605058] |\n",
      "|                          |  [ 14.7 100.9]] |  [3.71618084 7.81600921]] |\n",
      "+--------------------------+-----------------+---------------------------+\n"
     ]
    }
   ],
   "source": [
    "display_metrics(metrics_results)"
   ]
  },
  {
   "cell_type": "code",
   "execution_count": 19,
   "id": "279e265b",
   "metadata": {},
   "outputs": [
    {
     "data": {
      "text/plain": [
       "{'n_iter': 10,\n",
       " 'classifier': 'SVC',\n",
       " 'category': 'pinchoff',\n",
       " 'data_files': ['/Users/jana/Documents/code/nanotune/nanotune/data/training_data/pinchoff.npy'],\n",
       " 'data_types': ['signal'],\n",
       " 'hyper_parameters': {'C': 1.0,\n",
       "  'break_ties': False,\n",
       "  'cache_size': 200,\n",
       "  'class_weight': None,\n",
       "  'coef0': 0.0,\n",
       "  'decision_function_shape': 'ovr',\n",
       "  'degree': 3,\n",
       "  'gamma': 'auto',\n",
       "  'kernel': 'linear',\n",
       "  'max_iter': -1,\n",
       "  'probability': True,\n",
       "  'random_state': None,\n",
       "  'shrinking': True,\n",
       "  'tol': 0.001,\n",
       "  'verbose': False},\n",
       " 'metric_names': ['accuracy_score',\n",
       "  'brier_score_loss',\n",
       "  'auc',\n",
       "  'average_precision_recall'],\n",
       " 'elapsed_time [s/iter]': 0.23525290489196776,\n",
       " 'n_test': 224,\n",
       " 'n_train': 894,\n",
       " 'mean_train_time': 0.22599971294403076,\n",
       " 'std_train_time': 0.04204103765981187,\n",
       " 'perform_pca': False,\n",
       " 'scale_pc': False,\n",
       " 'metadata': {},\n",
       " 'supp_train_data': None,\n",
       " 'accuracy_score': {'std': 0.02150284746212909, 'mean': 0.8571428571428571},\n",
       " 'brier_score_loss': {'std': 0.021502847462129097,\n",
       "  'mean': 0.14285714285714288},\n",
       " 'auc': {'std': 0.026156287412055446, 'mean': 0.8992805600465585},\n",
       " 'average_precision_recall': {'std': 0.049648983017123845,\n",
       "  'mean': 0.8777369915616033},\n",
       " 'confusion_matrix': {'std': [[7.841555968046137, 3.7960505792204615],\n",
       "   [3.7161808352124095, 7.8160092118676525]],\n",
       "  'mean': [[91.1, 17.3], [14.7, 100.9]]}}"
      ]
     },
     "execution_count": 19,
     "metadata": {},
     "output_type": "execute_result"
    }
   ],
   "source": [
    "metrics_results"
   ]
  },
  {
   "cell_type": "code",
   "execution_count": 20,
   "id": "88c77612",
   "metadata": {},
   "outputs": [
    {
     "name": "stdout",
     "output_type": "stream",
     "text": [
      "accuracy_score\n",
      "n_iter\n",
      "\n",
      "\n",
      "brier_score_loss\n",
      "classifier\n",
      "\n",
      "\n",
      "auc\n",
      "category\n",
      "\n",
      "\n",
      "average_precision_recall\n",
      "data_files\n",
      "\n",
      "\n"
     ]
    }
   ],
   "source": [
    "for metric_name, value in zip(METRIC_NAMES, metrics_results):\n",
    "    print(metric_name)\n",
    "    print(value)\n",
    "    print('\\n')"
   ]
  },
  {
   "cell_type": "code",
   "execution_count": null,
   "id": "be89142b",
   "metadata": {},
   "outputs": [],
   "source": []
  }
 ],
 "metadata": {
  "kernelspec": {
   "display_name": "Python 3 (ipykernel)",
   "language": "python",
   "name": "python3"
  },
  "language_info": {
   "codemirror_mode": {
    "name": "ipython",
    "version": 3
   },
   "file_extension": ".py",
   "mimetype": "text/x-python",
   "name": "python",
   "nbconvert_exporter": "python",
   "pygments_lexer": "ipython3",
   "version": "3.8.10"
  }
 },
 "nbformat": 4,
 "nbformat_minor": 5
}
