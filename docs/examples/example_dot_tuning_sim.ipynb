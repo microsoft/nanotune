{
 "cells": [
  {
   "cell_type": "markdown",
   "id": "9e8d6f1d",
   "metadata": {},
   "source": [
    "# Example dot tuning"
   ]
  },
  {
   "cell_type": "code",
   "execution_count": null,
   "id": "dd39b936",
   "metadata": {},
   "outputs": [],
   "source": [
    "from qcodes import Station\n",
    "import nanotune as nt\n",
    "from nanotune.tuningstages.settings import DataSettings, SetpointSettings, Classifiers\n",
    "from nanotune.tests.functional_tests.sim_tuner import SimDotTuner\n",
    "from nanotune.drivers.mock_dac import MockDAC, MockDACChannel\n",
    "from nanotune.tests.mock_classifier import MockClassifer\n",
    "from sim.qcodes_mocks import MockDoubleQuantumDotInstrument\n",
    "from load_sim_scenarios import sim_scenario_dottuning\n",
    "from load_sim_device import load_sim_device"
   ]
  },
  {
   "cell_type": "markdown",
   "id": "4048e73c",
   "metadata": {},
   "source": [
    "# Load instruments and simulator to play back data\n",
    "We use a MockDAC and a simulator to replace a real setup.\n",
    "The simulator takes previously measured data and plays it back. It needs to be initialized and added to the station."
   ]
  },
  {
   "cell_type": "code",
   "execution_count": null,
   "id": "3485857e",
   "metadata": {},
   "outputs": [],
   "source": [
    "station = Station()\n",
    "dac = MockDAC('dac', MockDACChannel)\n",
    "station.add_component(dac)\n",
    "\n",
    "qd_mock_instrument = MockDoubleQuantumDotInstrument('qd_mock_instrument')\n",
    "station.add_component(qd_mock_instrument, name=\"qd_mock_instrument\")"
   ]
  },
  {
   "cell_type": "markdown",
   "id": "8705bfa3",
   "metadata": {},
   "source": [
    "Now we load the device and overwrite the channel's voltage parameters with the simulator's pin voltages.\n",
    "Then the simulation scenario is loaded, i.e. we tell the simulator which data to play back and update the device's normalization constants. In a real measurement, the normalization constants need to be measured. Unfortunately this is currently not supported by the simulator."
   ]
  },
  {
   "cell_type": "code",
   "execution_count": null,
   "id": "fa8734e6",
   "metadata": {},
   "outputs": [],
   "source": [
    "device = load_sim_device(station, \"./chip.yaml\")\n",
    "sim_sceanrio = sim_scenario_dottuning(station)\n",
    "device.normalization_constants"
   ]
  },
  {
   "cell_type": "markdown",
   "id": "f63bd51b",
   "metadata": {},
   "source": [
    "# Initialize tuner\n",
    "We use the SimDotTuner here, which is a subclass of the DotTuner with the only difference that before each measurement, the data simulated is advanced to replay the next dataset."
   ]
  },
  {
   "cell_type": "code",
   "execution_count": null,
   "id": "5d8fe579",
   "metadata": {},
   "outputs": [],
   "source": [
    "settings = {\n",
    "    \"name\": \"test_tuner\",\n",
    "    \"data_settings\": DataSettings(\n",
    "        db_name=\"dot_tuning_example.db\",\n",
    "        db_folder='.',\n",
    "        segment_db_name=\"dot_segments_temp.db\",\n",
    "        segment_db_folder='.',\n",
    "    ),\n",
    "    \"classifiers\": Classifiers(\n",
    "        pinchoff=MockClassifer(category=\"pinchoff\"),\n",
    "        singledot=MockClassifer(category=\"singledot\"),\n",
    "        doubledot=MockClassifer(category=\"doubledot\"),\n",
    "        dotregime=MockClassifer(category=\"dotregime\")),\n",
    "    \"setpoint_settings\": SetpointSettings(\n",
    "        voltage_precision=0.001,\n",
    "        ranges_to_sweep=[(-1, 0)],\n",
    "        safety_voltage_ranges=[(-2, 0)],\n",
    "    ),\n",
    "}"
   ]
  },
  {
   "cell_type": "code",
   "execution_count": null,
   "id": "9c28689d",
   "metadata": {},
   "outputs": [],
   "source": [
    "dottuner = SimDotTuner(\n",
    "    **settings, \n",
    "    sim_scenario=sim_sceanrio,\n",
    ")"
   ]
  },
  {
   "cell_type": "code",
   "execution_count": null,
   "id": "ce5b05cc",
   "metadata": {
    "scrolled": true
   },
   "outputs": [],
   "source": [
    "dottuner.tune_dot_regime(device)"
   ]
  },
  {
   "cell_type": "markdown",
   "id": "4050b9ac",
   "metadata": {},
   "source": [
    "The tuning result is saved in the tuner's tuning history."
   ]
  },
  {
   "cell_type": "code",
   "execution_count": null,
   "id": "bfeea161",
   "metadata": {},
   "outputs": [],
   "source": [
    "dottuner.tuning_history.results[device.name].tuningresults.keys()"
   ]
  },
  {
   "cell_type": "markdown",
   "id": "fb29f7ec",
   "metadata": {},
   "source": [
    "The valid ranges found during tuning can be accessed via the current valid ranges attribute."
   ]
  },
  {
   "cell_type": "code",
   "execution_count": null,
   "id": "7b70465d",
   "metadata": {},
   "outputs": [],
   "source": [
    "device.current_valid_ranges()"
   ]
  },
  {
   "cell_type": "code",
   "execution_count": null,
   "id": "3796519c",
   "metadata": {},
   "outputs": [],
   "source": []
  }
 ],
 "metadata": {
  "kernelspec": {
   "display_name": "Python 3 (ipykernel)",
   "language": "python",
   "name": "python3"
  },
  "language_info": {
   "codemirror_mode": {
    "name": "ipython",
    "version": 3
   },
   "file_extension": ".py",
   "mimetype": "text/x-python",
   "name": "python",
   "nbconvert_exporter": "python",
   "pygments_lexer": "ipython3",
   "version": "3.8.10"
  }
 },
 "nbformat": 4,
 "nbformat_minor": 5
}
