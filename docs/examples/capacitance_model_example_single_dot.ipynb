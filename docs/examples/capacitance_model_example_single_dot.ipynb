{
 "cells": [
  {
   "cell_type": "code",
   "execution_count": 1,
   "metadata": {},
   "outputs": [],
   "source": [
    "%matplotlib inline\n",
    "from qcodes.dataset.experiment_container import new_experiment\n",
    "from qcodes.dataset.experiment_container import load_by_id\n",
    "from qcodes.dataset.plotting import plot_by_id\n",
    "\n",
    "import nanotune as nt\n",
    "from nanotune.model.capacitancemodel import CapacitanceModel"
   ]
  },
  {
   "cell_type": "markdown",
   "metadata": {},
   "source": [
    "## Capacitance model for a single dot\n"
   ]
  },
  {
   "cell_type": "markdown",
   "metadata": {},
   "source": [
    "Initiate or set database where data should be saved. When initializing a database a new qcodes experiment needs to be created as well."
   ]
  },
  {
   "cell_type": "code",
   "execution_count": 2,
   "metadata": {},
   "outputs": [
    {
     "name": "stdout",
     "output_type": "stream",
     "text": [
      "Upgrading database; v0 -> v1: : 0it [00:00, ?it/s]\n",
      "Upgrading database; v1 -> v2: 100%|█████████████████████████████████████████████████████| 1/1 [00:00<00:00, 498.49it/s]\n",
      "Upgrading database; v2 -> v3: : 0it [00:00, ?it/s]\n",
      "Upgrading database; v3 -> v4: : 0it [00:00, ?it/s]\n",
      "Upgrading database; v4 -> v5: 100%|█████████████████████████████████████████████████████| 1/1 [00:00<00:00, 332.35it/s]\n",
      "Upgrading database; v5 -> v6: : 0it [00:00, ?it/s]\n",
      "Upgrading database; v6 -> v7: 100%|█████████████████████████████████████████████████████| 1/1 [00:00<00:00, 166.01it/s]\n",
      "Upgrading database; v7 -> v8: 100%|█████████████████████████████████████████████████████| 1/1 [00:00<00:00, 499.56it/s]\n",
      "Upgrading database; v8 -> v9: 100%|█████████████████████████████████████████████████████| 1/1 [00:00<00:00, 500.27it/s]\n"
     ]
    },
    {
     "data": {
      "text/plain": [
       "capacitance_extraction#capa_model#1@C:\\Workshop\\nanotune\\docs\\examples\\capa_model_test.db\n",
       "-----------------------------------------------------------------------------------------"
      ]
     },
     "execution_count": 2,
     "metadata": {},
     "output_type": "execute_result"
    }
   ],
   "source": [
    "exp_name = 'capacitance_extraction'\n",
    "sample_name = 'capa_model'\n",
    "db_name = 'capa_model_test.db'\n",
    "nt.new_database(db_name, '.')\n",
    "new_experiment(exp_name, sample_name)"
   ]
  },
  {
   "cell_type": "markdown",
   "metadata": {},
   "source": [
    "Initialize an instance of CapacitanceModel with three gates and one dot"
   ]
  },
  {
   "cell_type": "code",
   "execution_count": 3,
   "metadata": {},
   "outputs": [],
   "source": [
    "voltage_nodes = {\n",
    "    0: 'left_barrier',\n",
    "    1: 'plunger',\n",
    "    2: 'right_barrier',\n",
    "}\n",
    "charge_nodes = {\n",
    "    0: 'A',\n",
    "}\n",
    "\n",
    "qdot = CapacitanceModel(\n",
    "    'qdot',\n",
    "    charge_nodes=charge_nodes,\n",
    "    voltage_nodes=voltage_nodes,\n",
    "    db_name=db_name,\n",
    "    db_folder='.'\n",
    ")\n"
   ]
  },
  {
   "cell_type": "markdown",
   "metadata": {},
   "source": [
    "Set voltages, define capacitance matrix and calculate the corresponding ground state dot occupation. Negative electron occupations are not allowed, they are replaces with zero."
   ]
  },
  {
   "cell_type": "code",
   "execution_count": 4,
   "metadata": {},
   "outputs": [
    {
     "name": "stdout",
     "output_type": "stream",
     "text": [
      "[0.0]\n"
     ]
    }
   ],
   "source": [
    "qdot.V_v([\n",
    "    -1.55, # left_barrier\n",
    "    1,     # plunger\n",
    "    -3.5,  # right_barrier\n",
    "])\n",
    "\n",
    "# capacitances between gates and dots  \n",
    "qdot.C_cv(\n",
    "# left_b  plunger right_b\n",
    "    [[-0.1, -1.3, -2]],  \n",
    ")\n",
    "print(qdot.determine_N())"
   ]
  },
  {
   "cell_type": "markdown",
   "metadata": {},
   "source": [
    "Determine the voltage range required to sweep in order to measure specific charge states (dot occupancies)"
   ]
  },
  {
   "cell_type": "code",
   "execution_count": 5,
   "metadata": {},
   "outputs": [
    {
     "name": "stdout",
     "output_type": "stream",
     "text": [
      "[(5.5038085937500085, 7.042281652688992)]\n"
     ]
    }
   ],
   "source": [
    "N_limits = [(0, 2)]\n",
    "sweep_ranges = qdot.determine_sweep_voltages([1], N_limits=N_limits)\n",
    "print(sweep_ranges)"
   ]
  },
  {
   "cell_type": "code",
   "execution_count": 6,
   "metadata": {},
   "outputs": [
    {
     "name": "stdout",
     "output_type": "stream",
     "text": [
      "Starting experimental run with id: 1. \n"
     ]
    },
    {
     "data": {
      "text/plain": [
       "([<AxesSubplot:title={'center':'Run #1, Experiment capacitance_extraction (capa_model)'}, xlabel='voltage node plunger (V[1]) (V)', ylabel='Gate R (V)'>],\n",
       " [None])"
      ]
     },
     "execution_count": 6,
     "metadata": {},
     "output_type": "execute_result"
    },
    {
     "data": {
      "image/png": "[encoded data removed]",
      "text/plain": [
       "<Figure size 432x288 with 1 Axes>"
      ]
     },
     "metadata": {
      "needs_background": "light"
     },
     "output_type": "display_data"
    }
   ],
   "source": [
    "dataid = qdot.sweep_voltage(\n",
    "    1, \n",
    "    sweep_ranges,\n",
    "    n_steps=200,\n",
    "    normalize=False,\n",
    ")\n",
    "plot_by_id(dataid)"
   ]
  },
  {
   "cell_type": "markdown",
   "metadata": {},
   "source": [
    "Let's change the voltage configuration to see what happens to the Coulomb peaks"
   ]
  },
  {
   "cell_type": "code",
   "execution_count": 7,
   "metadata": {},
   "outputs": [
    {
     "name": "stdout",
     "output_type": "stream",
     "text": [
      "Starting experimental run with id: 2. \n"
     ]
    },
    {
     "data": {
      "text/plain": [
       "([<AxesSubplot:title={'center':'Run #2, Experiment capacitance_extraction (capa_model)'}, xlabel='voltage node plunger (V[1]) (V)', ylabel='Gate R (V)'>],\n",
       " [None])"
      ]
     },
     "execution_count": 7,
     "metadata": {},
     "output_type": "execute_result"
    },
    {
     "data": {
      "image/png": "[encoded data removed]",
      "text/plain": [
       "<Figure size 432x288 with 1 Axes>"
      ]
     },
     "metadata": {
      "needs_background": "light"
     },
     "output_type": "display_data"
    }
   ],
   "source": [
    "qdot.V_v([\n",
    "    -3,  # left_barrier\n",
    "    1,  # plunger\n",
    "    -3.5,  # right_barrier\n",
    "])\n",
    "dataid = qdot.sweep_voltage(\n",
    "    1, \n",
    "    sweep_ranges,\n",
    "    n_steps=200,\n",
    "    normalize=False,\n",
    ")\n",
    "plot_by_id(dataid)\n"
   ]
  }
 ],
 "metadata": {
  "kernelspec": {
   "display_name": "Python 3 (ipykernel)",
   "language": "python",
   "name": "python3"
  },
  "language_info": {
   "codemirror_mode": {
    "name": "ipython",
    "version": 3
   },
   "file_extension": ".py",
   "mimetype": "text/x-python",
   "name": "python",
   "nbconvert_exporter": "python",
   "pygments_lexer": "ipython3",
   "version": "3.9.1"
  }
 },
 "nbformat": 4,
 "nbformat_minor": 2
}
